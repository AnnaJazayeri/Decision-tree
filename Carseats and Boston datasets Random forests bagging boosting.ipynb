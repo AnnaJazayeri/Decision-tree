{
 "cells": [
  {
   "cell_type": "markdown",
   "metadata": {},
   "source": [
    "## Part 1: Answers for three questions\n",
    "## Part 2: Carseats dataset Decision tree\n",
    "## Part 3: Boston dataset Decision tree\n",
    "## Part 4: Bagging and Random Forests\n",
    "## Part 5: Boosting<br>"
   ]
  },
  {
   "cell_type": "markdown",
   "metadata": {},
   "source": [
    "# <span style=\"color:orange\">Part 1: Answers for three questions</span>"
   ]
  },
  {
   "cell_type": "markdown",
   "metadata": {},
   "source": [
    "### 1. What's one real-world scenario where you might try using Bagging?\n",
    "\n",
    "<span style=\"color:blue\">**Scenario 1: College Admissions**<br>\n",
    "For example, if a college wants to make decisions about admissions and select the best students, we can use various factors such as grades, test scores, after-school activities, and recommendation letters that these students have. In this scenario, Bagging can be employed to train multiple admission models, and each of these models may have different preferences and biases. In each case, we will combine all the decisions obtained from different models. With this method, we can ensure that the final decision will be more balanced and have fewer biases.\n",
    "**Scenario 2: Credit Risk Assessment**<br>\n",
    "In the banking and financial industry, when assessing the credit risk of loan applicants, we could use bagging techniques. Each model in the group can evaluate an applicant's creditworthiness independently, considering factors like income, credit history, and employment status. By combining the predictions from multiple models, we can make a more dependable decision on whether to approve a loan. Bagging plays a crucial role in lessening the impact of errors in individual models, thereby enhancing the overall accuracy of credit risk assessments.</span>\n",
    "\n",
    "\n",
    "### 2. What's one real-world scenario where you might try using Random Forests?\n",
    "\n",
    "<span style=\"color:blue\">**Scenario 1: Course Recommendation System**<br>\n",
    "In a college's course recommendation system, Random Forests can be employed with effectiveness. Each decision tree in the Random Forest can grasp different aspects of course selection criteria, including prerequisites, student interests, and course availability. By combining predictions from various trees, the system can offer students more accurate course recommendations. This approach utilizes the diversity in course selection criteria, ensuring recommendations are precise without overly customizing them to individual student preferences.\n",
    "**Scenario 2: Medical Diagnosis**<br> \n",
    "In the field of healthcare, especially in medical diagnosis, Random Forests prove to be a valuable tool. Imagine a situation where we must diagnose a patient's condition using a mix of medical test results, symptoms, and patient history. Random Forests can construct a group of decision trees, each concentrating on different facets of the diagnosis, like symptoms, test results, and medical history. This amalgamation of decision trees leads to a more resilient and precise diagnosis, taking into account varied sources of information and lessening the risk of misclassification.</span>\n",
    "\n",
    "\n",
    "### 3. What's one real-world scenario where you might try using Boosting?\n",
    "\n",
    "<span style=\"color:blue\">**Scenario 1: Graduation Prediction**<br>\n",
    "When trying to predict if a student will graduate on time, Boosting proves helpful. In each boosting round, the focus is on enhancing prediction accuracy by giving extra attention to factors that caused prediction errors before, like course failures or academic challenges. By giving more weight to these areas and steadily refining the model, the college can offer more personalized guidance and support to students who might be at risk of not graduating on time.<br>\n",
    "**Scenario 2: Predicting Customers might stop shopping in Online Store:**<br>\n",
    "Boosting techniques prove useful in identifying customers who might cease online shopping. Employing special methods such as AdaBoost or GradientBoosting, Boosting teaches models gradually, allowing them to improve by recognizing and learning from mistakes. With every customer interaction or purchase on the website, valuable information is gained. By assigning greater significance to customers exhibiting specific behaviors, Boosting aids in detecting signs indicating a potential departure. This proactive approach enables the store to take early action, retaining customers and preventing them from leaving.</span>\n",
    "\n",
    "<span style=\"color:blue\">**Some Explanation**\n",
    "Bagging resembles collecting votes from various model groups. Each model learns from a random section of the training data and contributes an equal vote to the final decision. This proves beneficial when aiming to decrease variance and overfitting, akin to seeking diverse opinions from different individuals to enhance decision-making. Boosting, on the other hand, revolves around gradual model improvement. Models are trained sequentially, with each new model dedicated to rectifying errors made by its predecessors. Models making more mistakes receive increased attention. It's akin to having a personal tutor guiding improvement by concentrating on individual weaknesses.<br>\n",
    "source link: https://www.ibm.com/topics/bagging<br>\n",
    "RandomForest stands out as a distinctive ensemble learning technique, blending the concepts of Bagging and randomness. It constructs numerous decision trees, with each tree learning from distinct data sections. Additionally, each part of the tree only utilizes a random set of features. This approach assembles a robust and trustworthy team that leverages diverse models and various facets of the problem to enhance decision-making. Think of it as having a team of experts, each specializing in different areas, and collectively utilizing a limited set of reference sources to make well-informed decisions.<br>\n",
    "source link: https://www.analyticsvidhya.com/blog/2021/06/understanding-random-forest/</span>\n"
   ]
  },
  {
   "cell_type": "markdown",
   "metadata": {},
   "source": [
    "# <span style=\"color:orange\">Part 2: Carseats dataset Decision tree</span>"
   ]
  },
  {
   "cell_type": "code",
   "execution_count": 32,
   "metadata": {},
   "outputs": [],
   "source": [
    "# first of all making sure that the graphviz is installed\n",
    "# pip install graphviz"
   ]
  },
  {
   "cell_type": "markdown",
   "metadata": {},
   "source": [
    "## <span style=\"color:blue\">Step 1: importing the libraries</span>"
   ]
  },
  {
   "cell_type": "code",
   "execution_count": 6,
   "metadata": {
    "jupyter": {
     "outputs_hidden": false
    }
   },
   "outputs": [],
   "source": [
    "import pandas as pd\n",
    "import numpy as np\n",
    "import matplotlib as mpl\n",
    "import matplotlib.pyplot as plt\n",
    "import graphviz\n",
    "from sklearn.model_selection import train_test_split\n",
    "from sklearn.tree import DecisionTreeRegressor, DecisionTreeClassifier, export_graphviz\n",
    "from sklearn.ensemble import RandomForestRegressor, GradientBoostingRegressor\n",
    "from sklearn.metrics import confusion_matrix, mean_squared_error\n",
    "%matplotlib inline"
   ]
  },
  {
   "cell_type": "code",
   "execution_count": 4,
   "metadata": {
    "jupyter": {
     "outputs_hidden": false
    }
   },
   "outputs": [
    {
     "name": "stdout",
     "output_type": "stream",
     "text": [
      "<class 'pandas.core.frame.DataFrame'>\n",
      "RangeIndex: 400 entries, 0 to 399\n",
      "Data columns (total 12 columns):\n",
      " #   Column       Non-Null Count  Dtype  \n",
      "---  ------       --------------  -----  \n",
      " 0   Sales        400 non-null    float64\n",
      " 1   CompPrice    400 non-null    int64  \n",
      " 2   Income       400 non-null    int64  \n",
      " 3   Advertising  400 non-null    int64  \n",
      " 4   Population   400 non-null    int64  \n",
      " 5   Price        400 non-null    int64  \n",
      " 6   ShelveLoc    400 non-null    int64  \n",
      " 7   Age          400 non-null    int64  \n",
      " 8   Education    400 non-null    int64  \n",
      " 9   Urban        400 non-null    int64  \n",
      " 10  US           400 non-null    int64  \n",
      " 11  High         400 non-null    int64  \n",
      "dtypes: float64(1), int64(11)\n",
      "memory usage: 37.6 KB\n"
     ]
    }
   ],
   "source": [
    "carseats_df = pd.read_csv('Carseats.csv')\n",
    "carseats_df['High'] = carseats_df.Sales.map(lambda x: 1 if x>8 else 0)\n",
    "carseats_df.ShelveLoc = pd.factorize(carseats_df.ShelveLoc)[0]\n",
    "carseats_df.Urban = carseats_df.Urban.map({'No':0, 'Yes':1})\n",
    "carseats_df.US = carseats_df.US.map({'No':0, 'Yes':1})\n",
    "carseats_df.info()"
   ]
  },
  {
   "cell_type": "markdown",
   "metadata": {},
   "source": [
    "## <span style=\"color:blue\">Step 2: Fitting Classification Trees:</span>\n",
    "<span style=\"color:blue\">The sklearn library provides helpful tools for making classification and regression trees. We'll begin by using classification trees to examine the Carseats dataset. </span>\n",
    "\n",
    "<span style=\"color:blue\">Explanation: In the following we first read the csv file and then put it in a dataframe wih pandas library, then becasue in this data, Sales is a continuous variable. So, we start by turning it into a binary variable. We use the ifelse() function to create a new variable, called High. It gets a value of Yes if the Sales variable is more than 8, and No otherwise. We'll add this to our DataFrame using the .map() function and then tidy up the data a bit.</span>"
   ]
  },
  {
   "cell_type": "code",
   "execution_count": 7,
   "metadata": {
    "jupyter": {
     "outputs_hidden": false
    }
   },
   "outputs": [],
   "source": [
    "X = carseats_df.drop(['Sales', 'High'], axis = 1)\n",
    "y = carseats_df.High\n",
    "\n",
    "X_train, X_test, y_train, y_test = train_test_split(X, y, test_size = 0.2, random_state = 42)\n",
    "carseats_tree = DecisionTreeClassifier(max_depth = 6)\n",
    "carseats_tree.fit(X_train, y_train)"
   ]
  },
  {
   "cell_type": "markdown",
   "metadata": {},
   "source": [
    "## <span style=\"color:blue\">Step 3: Evaluation on train dataset: </span>\n",
    "<span style=\"color:blue\">To check how well a classification tree works on our data, we need to figure out the test error instead of just looking at the training error. We start by dividing the data into two parts: one for training and the other for testing. Then, we use the DecisionTreeClassifier() function to create a classification tree that predicts the \"High\" variable. Unfortunately, sklearn doesn't have a built-in way to manually prune the tree, but you can control its depth using the max_depth parameter.</span>"
   ]
  },
  {
   "cell_type": "code",
   "execution_count": 8,
   "metadata": {
    "jupyter": {
     "outputs_hidden": false
    }
   },
   "outputs": [
    {
     "data": {
      "text/plain": [
       "0.884375"
      ]
     },
     "execution_count": 8,
     "metadata": {},
     "output_type": "execute_result"
    }
   ],
   "source": [
    "carseats_tree.score(X_train, y_train)"
   ]
  },
  {
   "cell_type": "markdown",
   "metadata": {},
   "source": [
    "<span style=\"color:blue\">**Results: I find that the training accuracy is 88.43%.**</span>\n",
    "\n",
    "<span style=\"color:blue\">'carseats_tree.score(X_train, y_train)' This number \"0.8843\" shows how well our decision tree learned from the data it was trained on. In easy terms, when we use our model on the same data it learned from, it predicts correctly about 88.43% of the time. This tells us how good the model is at understanding the patterns in the training data.\n",
    "But, we should be careful. Just because it's doing well on the training data doesn't mean it will do just as well on new, unseen data (like the test set). To really know how our model performs in different situations, we need to test it on a separate set of data (the test set). This helps us see how well our model can adapt and make accurate predictions beyond what it already learned.</span>\n",
    "\n",
    "**A cool thing about trees is that you can show them as pictures. But in sklearn, it's a little tricky. We use export_graphviz() to put the tree structure into a temporary .dot file. Then, we use graphviz.Source() to show the image.**"
   ]
  },
  {
   "cell_type": "markdown",
   "metadata": {},
   "source": [
    "## <span style=\"color:blue\">Step 4: Creating the decision tree: </span>"
   ]
  },
  {
   "cell_type": "code",
   "execution_count": 10,
   "metadata": {
    "jupyter": {
     "outputs_hidden": false
    }
   },
   "outputs": [
    {
     "data": {
      "image/svg+xml": [
       "<?xml version=\"1.0\" encoding=\"UTF-8\" standalone=\"no\"?>\n",
       "<!DOCTYPE svg PUBLIC \"-//W3C//DTD SVG 1.1//EN\"\n",
       " \"http://www.w3.org/Graphics/SVG/1.1/DTD/svg11.dtd\">\n",
       "<!-- Generated by graphviz version 2.50.0 (0)\n",
       " -->\n",
       "<!-- Title: Tree Pages: 1 -->\n",
       "<svg width=\"2555pt\" height=\"685pt\"\n",
       " viewBox=\"0.00 0.00 2555.00 685.00\" xmlns=\"http://www.w3.org/2000/svg\" xmlns:xlink=\"http://www.w3.org/1999/xlink\">\n",
       "<g id=\"graph0\" class=\"graph\" transform=\"scale(1 1) rotate(0) translate(4 681)\">\n",
       "<title>Tree</title>\n",
       "<polygon fill=\"white\" stroke=\"transparent\" points=\"-4,4 -4,-681 2551,-681 2551,4 -4,4\"/>\n",
       "<!-- 0 -->\n",
       "<g id=\"node1\" class=\"node\">\n",
       "<title>0</title>\n",
       "<polygon fill=\"none\" stroke=\"black\" points=\"771,-677 646,-677 646,-609 771,-609 771,-677\"/>\n",
       "<text text-anchor=\"middle\" x=\"708.5\" y=\"-661.8\" font-family=\"Helvetica,sans-Serif\" font-size=\"14.00\">Price &lt;= 92.5</text>\n",
       "<text text-anchor=\"middle\" x=\"708.5\" y=\"-646.8\" font-family=\"Helvetica,sans-Serif\" font-size=\"14.00\">gini = 0.479</text>\n",
       "<text text-anchor=\"middle\" x=\"708.5\" y=\"-631.8\" font-family=\"Helvetica,sans-Serif\" font-size=\"14.00\">samples = 320</text>\n",
       "<text text-anchor=\"middle\" x=\"708.5\" y=\"-616.8\" font-family=\"Helvetica,sans-Serif\" font-size=\"14.00\">value = [193, 127]</text>\n",
       "</g>\n",
       "<!-- 1 -->\n",
       "<g id=\"node2\" class=\"node\">\n",
       "<title>1</title>\n",
       "<polygon fill=\"none\" stroke=\"black\" points=\"695.5,-573 573.5,-573 573.5,-505 695.5,-505 695.5,-573\"/>\n",
       "<text text-anchor=\"middle\" x=\"634.5\" y=\"-557.8\" font-family=\"Helvetica,sans-Serif\" font-size=\"14.00\">ShelveLoc &lt;= 0.5</text>\n",
       "<text text-anchor=\"middle\" x=\"634.5\" y=\"-542.8\" font-family=\"Helvetica,sans-Serif\" font-size=\"14.00\">gini = 0.292</text>\n",
       "<text text-anchor=\"middle\" x=\"634.5\" y=\"-527.8\" font-family=\"Helvetica,sans-Serif\" font-size=\"14.00\">samples = 45</text>\n",
       "<text text-anchor=\"middle\" x=\"634.5\" y=\"-512.8\" font-family=\"Helvetica,sans-Serif\" font-size=\"14.00\">value = [8, 37]</text>\n",
       "</g>\n",
       "<!-- 0&#45;&gt;1 -->\n",
       "<g id=\"edge1\" class=\"edge\">\n",
       "<title>0&#45;&gt;1</title>\n",
       "<path fill=\"none\" stroke=\"black\" d=\"M684.47,-608.88C678.14,-600.15 671.23,-590.62 664.62,-581.51\"/>\n",
       "<polygon fill=\"black\" stroke=\"black\" points=\"667.36,-579.34 658.66,-573.3 661.7,-583.45 667.36,-579.34\"/>\n",
       "<text text-anchor=\"middle\" x=\"654.73\" y=\"-594.29\" font-family=\"Helvetica,sans-Serif\" font-size=\"14.00\">True</text>\n",
       "</g>\n",
       "<!-- 18 -->\n",
       "<g id=\"node19\" class=\"node\">\n",
       "<title>18</title>\n",
       "<polygon fill=\"none\" stroke=\"black\" points=\"899.5,-573 773.5,-573 773.5,-505 899.5,-505 899.5,-573\"/>\n",
       "<text text-anchor=\"middle\" x=\"836.5\" y=\"-557.8\" font-family=\"Helvetica,sans-Serif\" font-size=\"14.00\">Advertising &lt;= 6.5</text>\n",
       "<text text-anchor=\"middle\" x=\"836.5\" y=\"-542.8\" font-family=\"Helvetica,sans-Serif\" font-size=\"14.00\">gini = 0.44</text>\n",
       "<text text-anchor=\"middle\" x=\"836.5\" y=\"-527.8\" font-family=\"Helvetica,sans-Serif\" font-size=\"14.00\">samples = 275</text>\n",
       "<text text-anchor=\"middle\" x=\"836.5\" y=\"-512.8\" font-family=\"Helvetica,sans-Serif\" font-size=\"14.00\">value = [185, 90]</text>\n",
       "</g>\n",
       "<!-- 0&#45;&gt;18 -->\n",
       "<g id=\"edge18\" class=\"edge\">\n",
       "<title>0&#45;&gt;18</title>\n",
       "<path fill=\"none\" stroke=\"black\" d=\"M750.06,-608.88C761.79,-599.53 774.68,-589.26 786.85,-579.57\"/>\n",
       "<polygon fill=\"black\" stroke=\"black\" points=\"789.07,-582.27 794.71,-573.3 784.71,-576.79 789.07,-582.27\"/>\n",
       "<text text-anchor=\"middle\" x=\"791.9\" y=\"-594.44\" font-family=\"Helvetica,sans-Serif\" font-size=\"14.00\">False</text>\n",
       "</g>\n",
       "<!-- 2 -->\n",
       "<g id=\"node3\" class=\"node\">\n",
       "<title>2</title>\n",
       "<polygon fill=\"none\" stroke=\"black\" points=\"358.5,-469 246.5,-469 246.5,-401 358.5,-401 358.5,-469\"/>\n",
       "<text text-anchor=\"middle\" x=\"302.5\" y=\"-453.8\" font-family=\"Helvetica,sans-Serif\" font-size=\"14.00\">Income &lt;= 57.0</text>\n",
       "<text text-anchor=\"middle\" x=\"302.5\" y=\"-438.8\" font-family=\"Helvetica,sans-Serif\" font-size=\"14.00\">gini = 0.5</text>\n",
       "<text text-anchor=\"middle\" x=\"302.5\" y=\"-423.8\" font-family=\"Helvetica,sans-Serif\" font-size=\"14.00\">samples = 12</text>\n",
       "<text text-anchor=\"middle\" x=\"302.5\" y=\"-408.8\" font-family=\"Helvetica,sans-Serif\" font-size=\"14.00\">value = [6, 6]</text>\n",
       "</g>\n",
       "<!-- 1&#45;&gt;2 -->\n",
       "<g id=\"edge2\" class=\"edge\">\n",
       "<title>1&#45;&gt;2</title>\n",
       "<path fill=\"none\" stroke=\"black\" d=\"M573.22,-519.17C515.09,-501.31 428.02,-474.56 368.41,-456.25\"/>\n",
       "<polygon fill=\"black\" stroke=\"black\" points=\"369.31,-452.86 358.72,-453.27 367.25,-459.56 369.31,-452.86\"/>\n",
       "</g>\n",
       "<!-- 11 -->\n",
       "<g id=\"node12\" class=\"node\">\n",
       "<title>11</title>\n",
       "<polygon fill=\"none\" stroke=\"black\" points=\"705.5,-469 563.5,-469 563.5,-401 705.5,-401 705.5,-469\"/>\n",
       "<text text-anchor=\"middle\" x=\"634.5\" y=\"-453.8\" font-family=\"Helvetica,sans-Serif\" font-size=\"14.00\">CompPrice &lt;= 101.0</text>\n",
       "<text text-anchor=\"middle\" x=\"634.5\" y=\"-438.8\" font-family=\"Helvetica,sans-Serif\" font-size=\"14.00\">gini = 0.114</text>\n",
       "<text text-anchor=\"middle\" x=\"634.5\" y=\"-423.8\" font-family=\"Helvetica,sans-Serif\" font-size=\"14.00\">samples = 33</text>\n",
       "<text text-anchor=\"middle\" x=\"634.5\" y=\"-408.8\" font-family=\"Helvetica,sans-Serif\" font-size=\"14.00\">value = [2, 31]</text>\n",
       "</g>\n",
       "<!-- 1&#45;&gt;11 -->\n",
       "<g id=\"edge11\" class=\"edge\">\n",
       "<title>1&#45;&gt;11</title>\n",
       "<path fill=\"none\" stroke=\"black\" d=\"M634.5,-504.88C634.5,-496.78 634.5,-487.98 634.5,-479.47\"/>\n",
       "<polygon fill=\"black\" stroke=\"black\" points=\"638,-479.3 634.5,-469.3 631,-479.3 638,-479.3\"/>\n",
       "</g>\n",
       "<!-- 3 -->\n",
       "<g id=\"node4\" class=\"node\">\n",
       "<title>3</title>\n",
       "<polygon fill=\"none\" stroke=\"black\" points=\"225,-357.5 130,-357.5 130,-304.5 225,-304.5 225,-357.5\"/>\n",
       "<text text-anchor=\"middle\" x=\"177.5\" y=\"-342.3\" font-family=\"Helvetica,sans-Serif\" font-size=\"14.00\">gini = 0.0</text>\n",
       "<text text-anchor=\"middle\" x=\"177.5\" y=\"-327.3\" font-family=\"Helvetica,sans-Serif\" font-size=\"14.00\">samples = 4</text>\n",
       "<text text-anchor=\"middle\" x=\"177.5\" y=\"-312.3\" font-family=\"Helvetica,sans-Serif\" font-size=\"14.00\">value = [4, 0]</text>\n",
       "</g>\n",
       "<!-- 2&#45;&gt;3 -->\n",
       "<g id=\"edge3\" class=\"edge\">\n",
       "<title>2&#45;&gt;3</title>\n",
       "<path fill=\"none\" stroke=\"black\" d=\"M261.92,-400.88C247.36,-389.01 230.99,-375.65 216.56,-363.88\"/>\n",
       "<polygon fill=\"black\" stroke=\"black\" points=\"218.74,-361.13 208.77,-357.52 214.31,-366.55 218.74,-361.13\"/>\n",
       "</g>\n",
       "<!-- 4 -->\n",
       "<g id=\"node5\" class=\"node\">\n",
       "<title>4</title>\n",
       "<polygon fill=\"none\" stroke=\"black\" points=\"362,-365 243,-365 243,-297 362,-297 362,-365\"/>\n",
       "<text text-anchor=\"middle\" x=\"302.5\" y=\"-349.8\" font-family=\"Helvetica,sans-Serif\" font-size=\"14.00\">Income &lt;= 114.0</text>\n",
       "<text text-anchor=\"middle\" x=\"302.5\" y=\"-334.8\" font-family=\"Helvetica,sans-Serif\" font-size=\"14.00\">gini = 0.375</text>\n",
       "<text text-anchor=\"middle\" x=\"302.5\" y=\"-319.8\" font-family=\"Helvetica,sans-Serif\" font-size=\"14.00\">samples = 8</text>\n",
       "<text text-anchor=\"middle\" x=\"302.5\" y=\"-304.8\" font-family=\"Helvetica,sans-Serif\" font-size=\"14.00\">value = [2, 6]</text>\n",
       "</g>\n",
       "<!-- 2&#45;&gt;4 -->\n",
       "<g id=\"edge4\" class=\"edge\">\n",
       "<title>2&#45;&gt;4</title>\n",
       "<path fill=\"none\" stroke=\"black\" d=\"M302.5,-400.88C302.5,-392.78 302.5,-383.98 302.5,-375.47\"/>\n",
       "<polygon fill=\"black\" stroke=\"black\" points=\"306,-375.3 302.5,-365.3 299,-375.3 306,-375.3\"/>\n",
       "</g>\n",
       "<!-- 5 -->\n",
       "<g id=\"node6\" class=\"node\">\n",
       "<title>5</title>\n",
       "<polygon fill=\"none\" stroke=\"black\" points=\"236.5,-261 98.5,-261 98.5,-193 236.5,-193 236.5,-261\"/>\n",
       "<text text-anchor=\"middle\" x=\"167.5\" y=\"-245.8\" font-family=\"Helvetica,sans-Serif\" font-size=\"14.00\">Population &lt;= 196.0</text>\n",
       "<text text-anchor=\"middle\" x=\"167.5\" y=\"-230.8\" font-family=\"Helvetica,sans-Serif\" font-size=\"14.00\">gini = 0.245</text>\n",
       "<text text-anchor=\"middle\" x=\"167.5\" y=\"-215.8\" font-family=\"Helvetica,sans-Serif\" font-size=\"14.00\">samples = 7</text>\n",
       "<text text-anchor=\"middle\" x=\"167.5\" y=\"-200.8\" font-family=\"Helvetica,sans-Serif\" font-size=\"14.00\">value = [1, 6]</text>\n",
       "</g>\n",
       "<!-- 4&#45;&gt;5 -->\n",
       "<g id=\"edge5\" class=\"edge\">\n",
       "<title>4&#45;&gt;5</title>\n",
       "<path fill=\"none\" stroke=\"black\" d=\"M258.67,-296.88C246.29,-287.53 232.7,-277.26 219.87,-267.57\"/>\n",
       "<polygon fill=\"black\" stroke=\"black\" points=\"221.66,-264.54 211.57,-261.3 217.44,-270.12 221.66,-264.54\"/>\n",
       "</g>\n",
       "<!-- 10 -->\n",
       "<g id=\"node11\" class=\"node\">\n",
       "<title>10</title>\n",
       "<polygon fill=\"none\" stroke=\"black\" points=\"350,-253.5 255,-253.5 255,-200.5 350,-200.5 350,-253.5\"/>\n",
       "<text text-anchor=\"middle\" x=\"302.5\" y=\"-238.3\" font-family=\"Helvetica,sans-Serif\" font-size=\"14.00\">gini = 0.0</text>\n",
       "<text text-anchor=\"middle\" x=\"302.5\" y=\"-223.3\" font-family=\"Helvetica,sans-Serif\" font-size=\"14.00\">samples = 1</text>\n",
       "<text text-anchor=\"middle\" x=\"302.5\" y=\"-208.3\" font-family=\"Helvetica,sans-Serif\" font-size=\"14.00\">value = [1, 0]</text>\n",
       "</g>\n",
       "<!-- 4&#45;&gt;10 -->\n",
       "<g id=\"edge10\" class=\"edge\">\n",
       "<title>4&#45;&gt;10</title>\n",
       "<path fill=\"none\" stroke=\"black\" d=\"M302.5,-296.88C302.5,-286.33 302.5,-274.6 302.5,-263.85\"/>\n",
       "<polygon fill=\"black\" stroke=\"black\" points=\"306,-263.52 302.5,-253.52 299,-263.52 306,-263.52\"/>\n",
       "</g>\n",
       "<!-- 6 -->\n",
       "<g id=\"node7\" class=\"node\">\n",
       "<title>6</title>\n",
       "<polygon fill=\"none\" stroke=\"black\" points=\"166.5,-157 40.5,-157 40.5,-89 166.5,-89 166.5,-157\"/>\n",
       "<text text-anchor=\"middle\" x=\"103.5\" y=\"-141.8\" font-family=\"Helvetica,sans-Serif\" font-size=\"14.00\">Advertising &lt;= 6.5</text>\n",
       "<text text-anchor=\"middle\" x=\"103.5\" y=\"-126.8\" font-family=\"Helvetica,sans-Serif\" font-size=\"14.00\">gini = 0.5</text>\n",
       "<text text-anchor=\"middle\" x=\"103.5\" y=\"-111.8\" font-family=\"Helvetica,sans-Serif\" font-size=\"14.00\">samples = 2</text>\n",
       "<text text-anchor=\"middle\" x=\"103.5\" y=\"-96.8\" font-family=\"Helvetica,sans-Serif\" font-size=\"14.00\">value = [1, 1]</text>\n",
       "</g>\n",
       "<!-- 5&#45;&gt;6 -->\n",
       "<g id=\"edge6\" class=\"edge\">\n",
       "<title>5&#45;&gt;6</title>\n",
       "<path fill=\"none\" stroke=\"black\" d=\"M146.72,-192.88C141.3,-184.24 135.39,-174.82 129.72,-165.79\"/>\n",
       "<polygon fill=\"black\" stroke=\"black\" points=\"132.67,-163.91 124.39,-157.3 126.74,-167.63 132.67,-163.91\"/>\n",
       "</g>\n",
       "<!-- 9 -->\n",
       "<g id=\"node10\" class=\"node\">\n",
       "<title>9</title>\n",
       "<polygon fill=\"none\" stroke=\"black\" points=\"280,-149.5 185,-149.5 185,-96.5 280,-96.5 280,-149.5\"/>\n",
       "<text text-anchor=\"middle\" x=\"232.5\" y=\"-134.3\" font-family=\"Helvetica,sans-Serif\" font-size=\"14.00\">gini = 0.0</text>\n",
       "<text text-anchor=\"middle\" x=\"232.5\" y=\"-119.3\" font-family=\"Helvetica,sans-Serif\" font-size=\"14.00\">samples = 5</text>\n",
       "<text text-anchor=\"middle\" x=\"232.5\" y=\"-104.3\" font-family=\"Helvetica,sans-Serif\" font-size=\"14.00\">value = [0, 5]</text>\n",
       "</g>\n",
       "<!-- 5&#45;&gt;9 -->\n",
       "<g id=\"edge9\" class=\"edge\">\n",
       "<title>5&#45;&gt;9</title>\n",
       "<path fill=\"none\" stroke=\"black\" d=\"M188.6,-192.88C195.68,-181.78 203.59,-169.37 210.72,-158.18\"/>\n",
       "<polygon fill=\"black\" stroke=\"black\" points=\"213.81,-159.83 216.24,-149.52 207.91,-156.07 213.81,-159.83\"/>\n",
       "</g>\n",
       "<!-- 7 -->\n",
       "<g id=\"node8\" class=\"node\">\n",
       "<title>7</title>\n",
       "<polygon fill=\"none\" stroke=\"black\" points=\"95,-53 0,-53 0,0 95,0 95,-53\"/>\n",
       "<text text-anchor=\"middle\" x=\"47.5\" y=\"-37.8\" font-family=\"Helvetica,sans-Serif\" font-size=\"14.00\">gini = 0.0</text>\n",
       "<text text-anchor=\"middle\" x=\"47.5\" y=\"-22.8\" font-family=\"Helvetica,sans-Serif\" font-size=\"14.00\">samples = 1</text>\n",
       "<text text-anchor=\"middle\" x=\"47.5\" y=\"-7.8\" font-family=\"Helvetica,sans-Serif\" font-size=\"14.00\">value = [1, 0]</text>\n",
       "</g>\n",
       "<!-- 6&#45;&gt;7 -->\n",
       "<g id=\"edge7\" class=\"edge\">\n",
       "<title>6&#45;&gt;7</title>\n",
       "<path fill=\"none\" stroke=\"black\" d=\"M83.91,-88.95C78.76,-80.26 73.2,-70.86 68,-62.09\"/>\n",
       "<polygon fill=\"black\" stroke=\"black\" points=\"70.86,-60.06 62.75,-53.24 64.84,-63.62 70.86,-60.06\"/>\n",
       "</g>\n",
       "<!-- 8 -->\n",
       "<g id=\"node9\" class=\"node\">\n",
       "<title>8</title>\n",
       "<polygon fill=\"none\" stroke=\"black\" points=\"208,-53 113,-53 113,0 208,0 208,-53\"/>\n",
       "<text text-anchor=\"middle\" x=\"160.5\" y=\"-37.8\" font-family=\"Helvetica,sans-Serif\" font-size=\"14.00\">gini = 0.0</text>\n",
       "<text text-anchor=\"middle\" x=\"160.5\" y=\"-22.8\" font-family=\"Helvetica,sans-Serif\" font-size=\"14.00\">samples = 1</text>\n",
       "<text text-anchor=\"middle\" x=\"160.5\" y=\"-7.8\" font-family=\"Helvetica,sans-Serif\" font-size=\"14.00\">value = [0, 1]</text>\n",
       "</g>\n",
       "<!-- 6&#45;&gt;8 -->\n",
       "<g id=\"edge8\" class=\"edge\">\n",
       "<title>6&#45;&gt;8</title>\n",
       "<path fill=\"none\" stroke=\"black\" d=\"M123.44,-88.95C128.73,-80.17 134.47,-70.66 139.8,-61.82\"/>\n",
       "<polygon fill=\"black\" stroke=\"black\" points=\"142.81,-63.61 144.98,-53.24 136.81,-59.99 142.81,-63.61\"/>\n",
       "</g>\n",
       "<!-- 12 -->\n",
       "<g id=\"node13\" class=\"node\">\n",
       "<title>12</title>\n",
       "<polygon fill=\"none\" stroke=\"black\" points=\"597.5,-365 499.5,-365 499.5,-297 597.5,-297 597.5,-365\"/>\n",
       "<text text-anchor=\"middle\" x=\"548.5\" y=\"-349.8\" font-family=\"Helvetica,sans-Serif\" font-size=\"14.00\">Price &lt;= 82.0</text>\n",
       "<text text-anchor=\"middle\" x=\"548.5\" y=\"-334.8\" font-family=\"Helvetica,sans-Serif\" font-size=\"14.00\">gini = 0.375</text>\n",
       "<text text-anchor=\"middle\" x=\"548.5\" y=\"-319.8\" font-family=\"Helvetica,sans-Serif\" font-size=\"14.00\">samples = 8</text>\n",
       "<text text-anchor=\"middle\" x=\"548.5\" y=\"-304.8\" font-family=\"Helvetica,sans-Serif\" font-size=\"14.00\">value = [2, 6]</text>\n",
       "</g>\n",
       "<!-- 11&#45;&gt;12 -->\n",
       "<g id=\"edge12\" class=\"edge\">\n",
       "<title>11&#45;&gt;12</title>\n",
       "<path fill=\"none\" stroke=\"black\" d=\"M606.58,-400.88C599.07,-391.98 590.86,-382.24 583.03,-372.96\"/>\n",
       "<polygon fill=\"black\" stroke=\"black\" points=\"585.7,-370.69 576.58,-365.3 580.35,-375.2 585.7,-370.69\"/>\n",
       "</g>\n",
       "<!-- 17 -->\n",
       "<g id=\"node18\" class=\"node\">\n",
       "<title>17</title>\n",
       "<polygon fill=\"none\" stroke=\"black\" points=\"717.5,-357.5 615.5,-357.5 615.5,-304.5 717.5,-304.5 717.5,-357.5\"/>\n",
       "<text text-anchor=\"middle\" x=\"666.5\" y=\"-342.3\" font-family=\"Helvetica,sans-Serif\" font-size=\"14.00\">gini = 0.0</text>\n",
       "<text text-anchor=\"middle\" x=\"666.5\" y=\"-327.3\" font-family=\"Helvetica,sans-Serif\" font-size=\"14.00\">samples = 25</text>\n",
       "<text text-anchor=\"middle\" x=\"666.5\" y=\"-312.3\" font-family=\"Helvetica,sans-Serif\" font-size=\"14.00\">value = [0, 25]</text>\n",
       "</g>\n",
       "<!-- 11&#45;&gt;17 -->\n",
       "<g id=\"edge17\" class=\"edge\">\n",
       "<title>11&#45;&gt;17</title>\n",
       "<path fill=\"none\" stroke=\"black\" d=\"M644.89,-400.88C648.27,-390.11 652.03,-378.11 655.46,-367.18\"/>\n",
       "<polygon fill=\"black\" stroke=\"black\" points=\"658.84,-368.11 658.49,-357.52 652.16,-366.01 658.84,-368.11\"/>\n",
       "</g>\n",
       "<!-- 13 -->\n",
       "<g id=\"node14\" class=\"node\">\n",
       "<title>13</title>\n",
       "<polygon fill=\"none\" stroke=\"black\" points=\"499,-261 368,-261 368,-193 499,-193 499,-261\"/>\n",
       "<text text-anchor=\"middle\" x=\"433.5\" y=\"-245.8\" font-family=\"Helvetica,sans-Serif\" font-size=\"14.00\">Population &lt;= 67.5</text>\n",
       "<text text-anchor=\"middle\" x=\"433.5\" y=\"-230.8\" font-family=\"Helvetica,sans-Serif\" font-size=\"14.00\">gini = 0.245</text>\n",
       "<text text-anchor=\"middle\" x=\"433.5\" y=\"-215.8\" font-family=\"Helvetica,sans-Serif\" font-size=\"14.00\">samples = 7</text>\n",
       "<text text-anchor=\"middle\" x=\"433.5\" y=\"-200.8\" font-family=\"Helvetica,sans-Serif\" font-size=\"14.00\">value = [1, 6]</text>\n",
       "</g>\n",
       "<!-- 12&#45;&gt;13 -->\n",
       "<g id=\"edge13\" class=\"edge\">\n",
       "<title>12&#45;&gt;13</title>\n",
       "<path fill=\"none\" stroke=\"black\" d=\"M511.16,-296.88C500.82,-287.71 489.48,-277.65 478.74,-268.12\"/>\n",
       "<polygon fill=\"black\" stroke=\"black\" points=\"480.85,-265.32 471.04,-261.3 476.2,-270.55 480.85,-265.32\"/>\n",
       "</g>\n",
       "<!-- 16 -->\n",
       "<g id=\"node17\" class=\"node\">\n",
       "<title>16</title>\n",
       "<polygon fill=\"none\" stroke=\"black\" points=\"612,-253.5 517,-253.5 517,-200.5 612,-200.5 612,-253.5\"/>\n",
       "<text text-anchor=\"middle\" x=\"564.5\" y=\"-238.3\" font-family=\"Helvetica,sans-Serif\" font-size=\"14.00\">gini = 0.0</text>\n",
       "<text text-anchor=\"middle\" x=\"564.5\" y=\"-223.3\" font-family=\"Helvetica,sans-Serif\" font-size=\"14.00\">samples = 1</text>\n",
       "<text text-anchor=\"middle\" x=\"564.5\" y=\"-208.3\" font-family=\"Helvetica,sans-Serif\" font-size=\"14.00\">value = [1, 0]</text>\n",
       "</g>\n",
       "<!-- 12&#45;&gt;16 -->\n",
       "<g id=\"edge16\" class=\"edge\">\n",
       "<title>12&#45;&gt;16</title>\n",
       "<path fill=\"none\" stroke=\"black\" d=\"M553.69,-296.88C555.37,-286.22 557.23,-274.35 558.93,-263.52\"/>\n",
       "<polygon fill=\"black\" stroke=\"black\" points=\"562.4,-263.94 560.5,-253.52 555.49,-262.86 562.4,-263.94\"/>\n",
       "</g>\n",
       "<!-- 14 -->\n",
       "<g id=\"node15\" class=\"node\">\n",
       "<title>14</title>\n",
       "<polygon fill=\"none\" stroke=\"black\" points=\"413,-149.5 318,-149.5 318,-96.5 413,-96.5 413,-149.5\"/>\n",
       "<text text-anchor=\"middle\" x=\"365.5\" y=\"-134.3\" font-family=\"Helvetica,sans-Serif\" font-size=\"14.00\">gini = 0.0</text>\n",
       "<text text-anchor=\"middle\" x=\"365.5\" y=\"-119.3\" font-family=\"Helvetica,sans-Serif\" font-size=\"14.00\">samples = 1</text>\n",
       "<text text-anchor=\"middle\" x=\"365.5\" y=\"-104.3\" font-family=\"Helvetica,sans-Serif\" font-size=\"14.00\">value = [1, 0]</text>\n",
       "</g>\n",
       "<!-- 13&#45;&gt;14 -->\n",
       "<g id=\"edge14\" class=\"edge\">\n",
       "<title>13&#45;&gt;14</title>\n",
       "<path fill=\"none\" stroke=\"black\" d=\"M411.42,-192.88C403.94,-181.67 395.58,-169.13 388.07,-157.85\"/>\n",
       "<polygon fill=\"black\" stroke=\"black\" points=\"390.97,-155.9 382.51,-149.52 385.15,-159.78 390.97,-155.9\"/>\n",
       "</g>\n",
       "<!-- 15 -->\n",
       "<g id=\"node16\" class=\"node\">\n",
       "<title>15</title>\n",
       "<polygon fill=\"none\" stroke=\"black\" points=\"526,-149.5 431,-149.5 431,-96.5 526,-96.5 526,-149.5\"/>\n",
       "<text text-anchor=\"middle\" x=\"478.5\" y=\"-134.3\" font-family=\"Helvetica,sans-Serif\" font-size=\"14.00\">gini = 0.0</text>\n",
       "<text text-anchor=\"middle\" x=\"478.5\" y=\"-119.3\" font-family=\"Helvetica,sans-Serif\" font-size=\"14.00\">samples = 6</text>\n",
       "<text text-anchor=\"middle\" x=\"478.5\" y=\"-104.3\" font-family=\"Helvetica,sans-Serif\" font-size=\"14.00\">value = [0, 6]</text>\n",
       "</g>\n",
       "<!-- 13&#45;&gt;15 -->\n",
       "<g id=\"edge15\" class=\"edge\">\n",
       "<title>13&#45;&gt;15</title>\n",
       "<path fill=\"none\" stroke=\"black\" d=\"M448.11,-192.88C452.91,-182 458.27,-169.86 463.13,-158.85\"/>\n",
       "<polygon fill=\"black\" stroke=\"black\" points=\"466.41,-160.08 467.24,-149.52 460,-157.26 466.41,-160.08\"/>\n",
       "</g>\n",
       "<!-- 19 -->\n",
       "<g id=\"node20\" class=\"node\">\n",
       "<title>19</title>\n",
       "<polygon fill=\"none\" stroke=\"black\" points=\"895,-469 778,-469 778,-401 895,-401 895,-469\"/>\n",
       "<text text-anchor=\"middle\" x=\"836.5\" y=\"-453.8\" font-family=\"Helvetica,sans-Serif\" font-size=\"14.00\">Age &lt;= 50.5</text>\n",
       "<text text-anchor=\"middle\" x=\"836.5\" y=\"-438.8\" font-family=\"Helvetica,sans-Serif\" font-size=\"14.00\">gini = 0.298</text>\n",
       "<text text-anchor=\"middle\" x=\"836.5\" y=\"-423.8\" font-family=\"Helvetica,sans-Serif\" font-size=\"14.00\">samples = 148</text>\n",
       "<text text-anchor=\"middle\" x=\"836.5\" y=\"-408.8\" font-family=\"Helvetica,sans-Serif\" font-size=\"14.00\">value = [121, 27]</text>\n",
       "</g>\n",
       "<!-- 18&#45;&gt;19 -->\n",
       "<g id=\"edge19\" class=\"edge\">\n",
       "<title>18&#45;&gt;19</title>\n",
       "<path fill=\"none\" stroke=\"black\" d=\"M836.5,-504.88C836.5,-496.78 836.5,-487.98 836.5,-479.47\"/>\n",
       "<polygon fill=\"black\" stroke=\"black\" points=\"840,-479.3 836.5,-469.3 833,-479.3 840,-479.3\"/>\n",
       "</g>\n",
       "<!-- 40 -->\n",
       "<g id=\"node41\" class=\"node\">\n",
       "<title>40</title>\n",
       "<polygon fill=\"none\" stroke=\"black\" points=\"1778.5,-469 1656.5,-469 1656.5,-401 1778.5,-401 1778.5,-469\"/>\n",
       "<text text-anchor=\"middle\" x=\"1717.5\" y=\"-453.8\" font-family=\"Helvetica,sans-Serif\" font-size=\"14.00\">ShelveLoc &lt;= 0.5</text>\n",
       "<text text-anchor=\"middle\" x=\"1717.5\" y=\"-438.8\" font-family=\"Helvetica,sans-Serif\" font-size=\"14.00\">gini = 0.5</text>\n",
       "<text text-anchor=\"middle\" x=\"1717.5\" y=\"-423.8\" font-family=\"Helvetica,sans-Serif\" font-size=\"14.00\">samples = 127</text>\n",
       "<text text-anchor=\"middle\" x=\"1717.5\" y=\"-408.8\" font-family=\"Helvetica,sans-Serif\" font-size=\"14.00\">value = [64, 63]</text>\n",
       "</g>\n",
       "<!-- 18&#45;&gt;40 -->\n",
       "<g id=\"edge40\" class=\"edge\">\n",
       "<title>18&#45;&gt;40</title>\n",
       "<path fill=\"none\" stroke=\"black\" d=\"M899.51,-530.71C1059.09,-512.23 1478.45,-463.68 1646.43,-444.23\"/>\n",
       "<polygon fill=\"black\" stroke=\"black\" points=\"1646.87,-447.7 1656.41,-443.07 1646.07,-440.75 1646.87,-447.7\"/>\n",
       "</g>\n",
       "<!-- 20 -->\n",
       "<g id=\"node21\" class=\"node\">\n",
       "<title>20</title>\n",
       "<polygon fill=\"none\" stroke=\"black\" points=\"866.5,-365 744.5,-365 744.5,-297 866.5,-297 866.5,-365\"/>\n",
       "<text text-anchor=\"middle\" x=\"805.5\" y=\"-349.8\" font-family=\"Helvetica,sans-Serif\" font-size=\"14.00\">ShelveLoc &lt;= 0.5</text>\n",
       "<text text-anchor=\"middle\" x=\"805.5\" y=\"-334.8\" font-family=\"Helvetica,sans-Serif\" font-size=\"14.00\">gini = 0.459</text>\n",
       "<text text-anchor=\"middle\" x=\"805.5\" y=\"-319.8\" font-family=\"Helvetica,sans-Serif\" font-size=\"14.00\">samples = 56</text>\n",
       "<text text-anchor=\"middle\" x=\"805.5\" y=\"-304.8\" font-family=\"Helvetica,sans-Serif\" font-size=\"14.00\">value = [36, 20]</text>\n",
       "</g>\n",
       "<!-- 19&#45;&gt;20 -->\n",
       "<g id=\"edge20\" class=\"edge\">\n",
       "<title>19&#45;&gt;20</title>\n",
       "<path fill=\"none\" stroke=\"black\" d=\"M826.44,-400.88C823.92,-392.6 821.18,-383.6 818.54,-374.91\"/>\n",
       "<polygon fill=\"black\" stroke=\"black\" points=\"821.88,-373.85 815.62,-365.3 815.18,-375.89 821.88,-373.85\"/>\n",
       "</g>\n",
       "<!-- 27 -->\n",
       "<g id=\"node28\" class=\"node\">\n",
       "<title>27</title>\n",
       "<polygon fill=\"none\" stroke=\"black\" points=\"1072.5,-365 930.5,-365 930.5,-297 1072.5,-297 1072.5,-365\"/>\n",
       "<text text-anchor=\"middle\" x=\"1001.5\" y=\"-349.8\" font-family=\"Helvetica,sans-Serif\" font-size=\"14.00\">CompPrice &lt;= 147.5</text>\n",
       "<text text-anchor=\"middle\" x=\"1001.5\" y=\"-334.8\" font-family=\"Helvetica,sans-Serif\" font-size=\"14.00\">gini = 0.141</text>\n",
       "<text text-anchor=\"middle\" x=\"1001.5\" y=\"-319.8\" font-family=\"Helvetica,sans-Serif\" font-size=\"14.00\">samples = 92</text>\n",
       "<text text-anchor=\"middle\" x=\"1001.5\" y=\"-304.8\" font-family=\"Helvetica,sans-Serif\" font-size=\"14.00\">value = [85, 7]</text>\n",
       "</g>\n",
       "<!-- 19&#45;&gt;27 -->\n",
       "<g id=\"edge27\" class=\"edge\">\n",
       "<title>19&#45;&gt;27</title>\n",
       "<path fill=\"none\" stroke=\"black\" d=\"M890.07,-400.88C905.71,-391.21 922.94,-380.56 939.08,-370.59\"/>\n",
       "<polygon fill=\"black\" stroke=\"black\" points=\"941.25,-373.36 947.92,-365.12 937.57,-367.41 941.25,-373.36\"/>\n",
       "</g>\n",
       "<!-- 21 -->\n",
       "<g id=\"node22\" class=\"node\">\n",
       "<title>21</title>\n",
       "<polygon fill=\"none\" stroke=\"black\" points=\"732.5,-253.5 630.5,-253.5 630.5,-200.5 732.5,-200.5 732.5,-253.5\"/>\n",
       "<text text-anchor=\"middle\" x=\"681.5\" y=\"-238.3\" font-family=\"Helvetica,sans-Serif\" font-size=\"14.00\">gini = 0.0</text>\n",
       "<text text-anchor=\"middle\" x=\"681.5\" y=\"-223.3\" font-family=\"Helvetica,sans-Serif\" font-size=\"14.00\">samples = 14</text>\n",
       "<text text-anchor=\"middle\" x=\"681.5\" y=\"-208.3\" font-family=\"Helvetica,sans-Serif\" font-size=\"14.00\">value = [14, 0]</text>\n",
       "</g>\n",
       "<!-- 20&#45;&gt;21 -->\n",
       "<g id=\"edge21\" class=\"edge\">\n",
       "<title>20&#45;&gt;21</title>\n",
       "<path fill=\"none\" stroke=\"black\" d=\"M765.24,-296.88C750.8,-285.01 734.56,-271.65 720.25,-259.88\"/>\n",
       "<polygon fill=\"black\" stroke=\"black\" points=\"722.47,-257.17 712.52,-253.52 718.02,-262.58 722.47,-257.17\"/>\n",
       "</g>\n",
       "<!-- 22 -->\n",
       "<g id=\"node23\" class=\"node\">\n",
       "<title>22</title>\n",
       "<polygon fill=\"none\" stroke=\"black\" points=\"860.5,-261 750.5,-261 750.5,-193 860.5,-193 860.5,-261\"/>\n",
       "<text text-anchor=\"middle\" x=\"805.5\" y=\"-245.8\" font-family=\"Helvetica,sans-Serif\" font-size=\"14.00\">Price &lt;= 103.5</text>\n",
       "<text text-anchor=\"middle\" x=\"805.5\" y=\"-230.8\" font-family=\"Helvetica,sans-Serif\" font-size=\"14.00\">gini = 0.499</text>\n",
       "<text text-anchor=\"middle\" x=\"805.5\" y=\"-215.8\" font-family=\"Helvetica,sans-Serif\" font-size=\"14.00\">samples = 42</text>\n",
       "<text text-anchor=\"middle\" x=\"805.5\" y=\"-200.8\" font-family=\"Helvetica,sans-Serif\" font-size=\"14.00\">value = [22, 20]</text>\n",
       "</g>\n",
       "<!-- 20&#45;&gt;22 -->\n",
       "<g id=\"edge22\" class=\"edge\">\n",
       "<title>20&#45;&gt;22</title>\n",
       "<path fill=\"none\" stroke=\"black\" d=\"M805.5,-296.88C805.5,-288.78 805.5,-279.98 805.5,-271.47\"/>\n",
       "<polygon fill=\"black\" stroke=\"black\" points=\"809,-271.3 805.5,-261.3 802,-271.3 809,-271.3\"/>\n",
       "</g>\n",
       "<!-- 23 -->\n",
       "<g id=\"node24\" class=\"node\">\n",
       "<title>23</title>\n",
       "<polygon fill=\"none\" stroke=\"black\" points=\"684,-149.5 589,-149.5 589,-96.5 684,-96.5 684,-149.5\"/>\n",
       "<text text-anchor=\"middle\" x=\"636.5\" y=\"-134.3\" font-family=\"Helvetica,sans-Serif\" font-size=\"14.00\">gini = 0.0</text>\n",
       "<text text-anchor=\"middle\" x=\"636.5\" y=\"-119.3\" font-family=\"Helvetica,sans-Serif\" font-size=\"14.00\">samples = 5</text>\n",
       "<text text-anchor=\"middle\" x=\"636.5\" y=\"-104.3\" font-family=\"Helvetica,sans-Serif\" font-size=\"14.00\">value = [0, 5]</text>\n",
       "</g>\n",
       "<!-- 22&#45;&gt;23 -->\n",
       "<g id=\"edge23\" class=\"edge\">\n",
       "<title>22&#45;&gt;23</title>\n",
       "<path fill=\"none\" stroke=\"black\" d=\"M750.63,-192.88C730.31,-180.62 707.38,-166.78 687.43,-154.74\"/>\n",
       "<polygon fill=\"black\" stroke=\"black\" points=\"689.15,-151.69 678.78,-149.52 685.54,-157.68 689.15,-151.69\"/>\n",
       "</g>\n",
       "<!-- 24 -->\n",
       "<g id=\"node25\" class=\"node\">\n",
       "<title>24</title>\n",
       "<polygon fill=\"none\" stroke=\"black\" points=\"814.5,-157 702.5,-157 702.5,-89 814.5,-89 814.5,-157\"/>\n",
       "<text text-anchor=\"middle\" x=\"758.5\" y=\"-141.8\" font-family=\"Helvetica,sans-Serif\" font-size=\"14.00\">Income &lt;= 34.0</text>\n",
       "<text text-anchor=\"middle\" x=\"758.5\" y=\"-126.8\" font-family=\"Helvetica,sans-Serif\" font-size=\"14.00\">gini = 0.482</text>\n",
       "<text text-anchor=\"middle\" x=\"758.5\" y=\"-111.8\" font-family=\"Helvetica,sans-Serif\" font-size=\"14.00\">samples = 37</text>\n",
       "<text text-anchor=\"middle\" x=\"758.5\" y=\"-96.8\" font-family=\"Helvetica,sans-Serif\" font-size=\"14.00\">value = [22, 15]</text>\n",
       "</g>\n",
       "<!-- 22&#45;&gt;24 -->\n",
       "<g id=\"edge24\" class=\"edge\">\n",
       "<title>22&#45;&gt;24</title>\n",
       "<path fill=\"none\" stroke=\"black\" d=\"M790.24,-192.88C786.38,-184.51 782.18,-175.4 778.14,-166.63\"/>\n",
       "<polygon fill=\"black\" stroke=\"black\" points=\"781.21,-164.92 773.84,-157.3 774.85,-167.85 781.21,-164.92\"/>\n",
       "</g>\n",
       "<!-- 25 -->\n",
       "<g id=\"node26\" class=\"node\">\n",
       "<title>25</title>\n",
       "<polygon fill=\"none\" stroke=\"black\" points=\"618,-53 523,-53 523,0 618,0 618,-53\"/>\n",
       "<text text-anchor=\"middle\" x=\"570.5\" y=\"-37.8\" font-family=\"Helvetica,sans-Serif\" font-size=\"14.00\">gini = 0.0</text>\n",
       "<text text-anchor=\"middle\" x=\"570.5\" y=\"-22.8\" font-family=\"Helvetica,sans-Serif\" font-size=\"14.00\">samples = 8</text>\n",
       "<text text-anchor=\"middle\" x=\"570.5\" y=\"-7.8\" font-family=\"Helvetica,sans-Serif\" font-size=\"14.00\">value = [8, 0]</text>\n",
       "</g>\n",
       "<!-- 24&#45;&gt;25 -->\n",
       "<g id=\"edge25\" class=\"edge\">\n",
       "<title>24&#45;&gt;25</title>\n",
       "<path fill=\"none\" stroke=\"black\" d=\"M702.35,-93.77C678.66,-81.87 651.12,-68.03 627.36,-56.08\"/>\n",
       "<polygon fill=\"black\" stroke=\"black\" points=\"628.62,-52.8 618.11,-51.43 625.47,-59.05 628.62,-52.8\"/>\n",
       "</g>\n",
       "<!-- 26 -->\n",
       "<g id=\"node27\" class=\"node\">\n",
       "<title>26</title>\n",
       "<polygon fill=\"none\" stroke=\"black\" points=\"746.5,-53 636.5,-53 636.5,0 746.5,0 746.5,-53\"/>\n",
       "<text text-anchor=\"middle\" x=\"691.5\" y=\"-37.8\" font-family=\"Helvetica,sans-Serif\" font-size=\"14.00\">gini = 0.499</text>\n",
       "<text text-anchor=\"middle\" x=\"691.5\" y=\"-22.8\" font-family=\"Helvetica,sans-Serif\" font-size=\"14.00\">samples = 29</text>\n",
       "<text text-anchor=\"middle\" x=\"691.5\" y=\"-7.8\" font-family=\"Helvetica,sans-Serif\" font-size=\"14.00\">value = [14, 15]</text>\n",
       "</g>\n",
       "<!-- 24&#45;&gt;26 -->\n",
       "<g id=\"edge26\" class=\"edge\">\n",
       "<title>24&#45;&gt;26</title>\n",
       "<path fill=\"none\" stroke=\"black\" d=\"M735.07,-88.95C728.78,-80.07 721.96,-70.46 715.63,-61.54\"/>\n",
       "<polygon fill=\"black\" stroke=\"black\" points=\"718.39,-59.37 709.75,-53.24 712.68,-63.42 718.39,-59.37\"/>\n",
       "</g>\n",
       "<!-- 28 -->\n",
       "<g id=\"node29\" class=\"node\">\n",
       "<title>28</title>\n",
       "<polygon fill=\"none\" stroke=\"black\" points=\"1057.5,-261 945.5,-261 945.5,-193 1057.5,-193 1057.5,-261\"/>\n",
       "<text text-anchor=\"middle\" x=\"1001.5\" y=\"-245.8\" font-family=\"Helvetica,sans-Serif\" font-size=\"14.00\">Income &lt;= 75.0</text>\n",
       "<text text-anchor=\"middle\" x=\"1001.5\" y=\"-230.8\" font-family=\"Helvetica,sans-Serif\" font-size=\"14.00\">gini = 0.111</text>\n",
       "<text text-anchor=\"middle\" x=\"1001.5\" y=\"-215.8\" font-family=\"Helvetica,sans-Serif\" font-size=\"14.00\">samples = 85</text>\n",
       "<text text-anchor=\"middle\" x=\"1001.5\" y=\"-200.8\" font-family=\"Helvetica,sans-Serif\" font-size=\"14.00\">value = [80, 5]</text>\n",
       "</g>\n",
       "<!-- 27&#45;&gt;28 -->\n",
       "<g id=\"edge28\" class=\"edge\">\n",
       "<title>27&#45;&gt;28</title>\n",
       "<path fill=\"none\" stroke=\"black\" d=\"M1001.5,-296.88C1001.5,-288.78 1001.5,-279.98 1001.5,-271.47\"/>\n",
       "<polygon fill=\"black\" stroke=\"black\" points=\"1005,-271.3 1001.5,-261.3 998,-271.3 1005,-271.3\"/>\n",
       "</g>\n",
       "<!-- 35 -->\n",
       "<g id=\"node36\" class=\"node\">\n",
       "<title>35</title>\n",
       "<polygon fill=\"none\" stroke=\"black\" points=\"1324,-261 1219,-261 1219,-193 1324,-193 1324,-261\"/>\n",
       "<text text-anchor=\"middle\" x=\"1271.5\" y=\"-245.8\" font-family=\"Helvetica,sans-Serif\" font-size=\"14.00\">Price &lt;= 133.0</text>\n",
       "<text text-anchor=\"middle\" x=\"1271.5\" y=\"-230.8\" font-family=\"Helvetica,sans-Serif\" font-size=\"14.00\">gini = 0.408</text>\n",
       "<text text-anchor=\"middle\" x=\"1271.5\" y=\"-215.8\" font-family=\"Helvetica,sans-Serif\" font-size=\"14.00\">samples = 7</text>\n",
       "<text text-anchor=\"middle\" x=\"1271.5\" y=\"-200.8\" font-family=\"Helvetica,sans-Serif\" font-size=\"14.00\">value = [5, 2]</text>\n",
       "</g>\n",
       "<!-- 27&#45;&gt;35 -->\n",
       "<g id=\"edge35\" class=\"edge\">\n",
       "<title>27&#45;&gt;35</title>\n",
       "<path fill=\"none\" stroke=\"black\" d=\"M1072.79,-303.07C1115.17,-287.06 1168.42,-266.94 1209.13,-251.56\"/>\n",
       "<polygon fill=\"black\" stroke=\"black\" points=\"1210.54,-254.77 1218.66,-247.96 1208.07,-248.22 1210.54,-254.77\"/>\n",
       "</g>\n",
       "<!-- 29 -->\n",
       "<g id=\"node30\" class=\"node\">\n",
       "<title>29</title>\n",
       "<polygon fill=\"none\" stroke=\"black\" points=\"977.5,-157 875.5,-157 875.5,-89 977.5,-89 977.5,-157\"/>\n",
       "<text text-anchor=\"middle\" x=\"926.5\" y=\"-141.8\" font-family=\"Helvetica,sans-Serif\" font-size=\"14.00\">Age &lt;= 79.5</text>\n",
       "<text text-anchor=\"middle\" x=\"926.5\" y=\"-126.8\" font-family=\"Helvetica,sans-Serif\" font-size=\"14.00\">gini = 0.038</text>\n",
       "<text text-anchor=\"middle\" x=\"926.5\" y=\"-111.8\" font-family=\"Helvetica,sans-Serif\" font-size=\"14.00\">samples = 51</text>\n",
       "<text text-anchor=\"middle\" x=\"926.5\" y=\"-96.8\" font-family=\"Helvetica,sans-Serif\" font-size=\"14.00\">value = [50, 1]</text>\n",
       "</g>\n",
       "<!-- 28&#45;&gt;29 -->\n",
       "<g id=\"edge29\" class=\"edge\">\n",
       "<title>28&#45;&gt;29</title>\n",
       "<path fill=\"none\" stroke=\"black\" d=\"M977.15,-192.88C970.73,-184.15 963.72,-174.62 957.02,-165.51\"/>\n",
       "<polygon fill=\"black\" stroke=\"black\" points=\"959.73,-163.28 950.98,-157.3 954.09,-167.43 959.73,-163.28\"/>\n",
       "</g>\n",
       "<!-- 32 -->\n",
       "<g id=\"node33\" class=\"node\">\n",
       "<title>32</title>\n",
       "<polygon fill=\"none\" stroke=\"black\" points=\"1107.5,-157 995.5,-157 995.5,-89 1107.5,-89 1107.5,-157\"/>\n",
       "<text text-anchor=\"middle\" x=\"1051.5\" y=\"-141.8\" font-family=\"Helvetica,sans-Serif\" font-size=\"14.00\">Income &lt;= 77.5</text>\n",
       "<text text-anchor=\"middle\" x=\"1051.5\" y=\"-126.8\" font-family=\"Helvetica,sans-Serif\" font-size=\"14.00\">gini = 0.208</text>\n",
       "<text text-anchor=\"middle\" x=\"1051.5\" y=\"-111.8\" font-family=\"Helvetica,sans-Serif\" font-size=\"14.00\">samples = 34</text>\n",
       "<text text-anchor=\"middle\" x=\"1051.5\" y=\"-96.8\" font-family=\"Helvetica,sans-Serif\" font-size=\"14.00\">value = [30, 4]</text>\n",
       "</g>\n",
       "<!-- 28&#45;&gt;32 -->\n",
       "<g id=\"edge32\" class=\"edge\">\n",
       "<title>28&#45;&gt;32</title>\n",
       "<path fill=\"none\" stroke=\"black\" d=\"M1017.73,-192.88C1021.88,-184.42 1026.4,-175.21 1030.74,-166.35\"/>\n",
       "<polygon fill=\"black\" stroke=\"black\" points=\"1033.92,-167.82 1035.18,-157.3 1027.63,-164.74 1033.92,-167.82\"/>\n",
       "</g>\n",
       "<!-- 30 -->\n",
       "<g id=\"node31\" class=\"node\">\n",
       "<title>30</title>\n",
       "<polygon fill=\"none\" stroke=\"black\" points=\"866.5,-53 764.5,-53 764.5,0 866.5,0 866.5,-53\"/>\n",
       "<text text-anchor=\"middle\" x=\"815.5\" y=\"-37.8\" font-family=\"Helvetica,sans-Serif\" font-size=\"14.00\">gini = 0.0</text>\n",
       "<text text-anchor=\"middle\" x=\"815.5\" y=\"-22.8\" font-family=\"Helvetica,sans-Serif\" font-size=\"14.00\">samples = 45</text>\n",
       "<text text-anchor=\"middle\" x=\"815.5\" y=\"-7.8\" font-family=\"Helvetica,sans-Serif\" font-size=\"14.00\">value = [45, 0]</text>\n",
       "</g>\n",
       "<!-- 29&#45;&gt;30 -->\n",
       "<g id=\"edge30\" class=\"edge\">\n",
       "<title>29&#45;&gt;30</title>\n",
       "<path fill=\"none\" stroke=\"black\" d=\"M887.68,-88.95C876.61,-79.53 864.57,-69.27 853.55,-59.89\"/>\n",
       "<polygon fill=\"black\" stroke=\"black\" points=\"855.61,-57.05 845.73,-53.24 851.08,-62.38 855.61,-57.05\"/>\n",
       "</g>\n",
       "<!-- 31 -->\n",
       "<g id=\"node32\" class=\"node\">\n",
       "<title>31</title>\n",
       "<polygon fill=\"none\" stroke=\"black\" points=\"980,-53 885,-53 885,0 980,0 980,-53\"/>\n",
       "<text text-anchor=\"middle\" x=\"932.5\" y=\"-37.8\" font-family=\"Helvetica,sans-Serif\" font-size=\"14.00\">gini = 0.278</text>\n",
       "<text text-anchor=\"middle\" x=\"932.5\" y=\"-22.8\" font-family=\"Helvetica,sans-Serif\" font-size=\"14.00\">samples = 6</text>\n",
       "<text text-anchor=\"middle\" x=\"932.5\" y=\"-7.8\" font-family=\"Helvetica,sans-Serif\" font-size=\"14.00\">value = [5, 1]</text>\n",
       "</g>\n",
       "<!-- 29&#45;&gt;31 -->\n",
       "<g id=\"edge31\" class=\"edge\">\n",
       "<title>29&#45;&gt;31</title>\n",
       "<path fill=\"none\" stroke=\"black\" d=\"M928.6,-88.95C929.12,-80.72 929.68,-71.85 930.22,-63.48\"/>\n",
       "<polygon fill=\"black\" stroke=\"black\" points=\"933.73,-63.44 930.87,-53.24 926.74,-62.99 933.73,-63.44\"/>\n",
       "</g>\n",
       "<!-- 33 -->\n",
       "<g id=\"node34\" class=\"node\">\n",
       "<title>33</title>\n",
       "<polygon fill=\"none\" stroke=\"black\" points=\"1093,-53 998,-53 998,0 1093,0 1093,-53\"/>\n",
       "<text text-anchor=\"middle\" x=\"1045.5\" y=\"-37.8\" font-family=\"Helvetica,sans-Serif\" font-size=\"14.00\">gini = 0.0</text>\n",
       "<text text-anchor=\"middle\" x=\"1045.5\" y=\"-22.8\" font-family=\"Helvetica,sans-Serif\" font-size=\"14.00\">samples = 1</text>\n",
       "<text text-anchor=\"middle\" x=\"1045.5\" y=\"-7.8\" font-family=\"Helvetica,sans-Serif\" font-size=\"14.00\">value = [0, 1]</text>\n",
       "</g>\n",
       "<!-- 32&#45;&gt;33 -->\n",
       "<g id=\"edge33\" class=\"edge\">\n",
       "<title>32&#45;&gt;33</title>\n",
       "<path fill=\"none\" stroke=\"black\" d=\"M1049.4,-88.95C1048.88,-80.72 1048.32,-71.85 1047.78,-63.48\"/>\n",
       "<polygon fill=\"black\" stroke=\"black\" points=\"1051.26,-62.99 1047.13,-53.24 1044.27,-63.44 1051.26,-62.99\"/>\n",
       "</g>\n",
       "<!-- 34 -->\n",
       "<g id=\"node35\" class=\"node\">\n",
       "<title>34</title>\n",
       "<polygon fill=\"none\" stroke=\"black\" points=\"1213.5,-53 1111.5,-53 1111.5,0 1213.5,0 1213.5,-53\"/>\n",
       "<text text-anchor=\"middle\" x=\"1162.5\" y=\"-37.8\" font-family=\"Helvetica,sans-Serif\" font-size=\"14.00\">gini = 0.165</text>\n",
       "<text text-anchor=\"middle\" x=\"1162.5\" y=\"-22.8\" font-family=\"Helvetica,sans-Serif\" font-size=\"14.00\">samples = 33</text>\n",
       "<text text-anchor=\"middle\" x=\"1162.5\" y=\"-7.8\" font-family=\"Helvetica,sans-Serif\" font-size=\"14.00\">value = [30, 3]</text>\n",
       "</g>\n",
       "<!-- 32&#45;&gt;34 -->\n",
       "<g id=\"edge34\" class=\"edge\">\n",
       "<title>32&#45;&gt;34</title>\n",
       "<path fill=\"none\" stroke=\"black\" d=\"M1090.32,-88.95C1101.39,-79.53 1113.43,-69.27 1124.45,-59.89\"/>\n",
       "<polygon fill=\"black\" stroke=\"black\" points=\"1126.92,-62.38 1132.27,-53.24 1122.39,-57.05 1126.92,-62.38\"/>\n",
       "</g>\n",
       "<!-- 36 -->\n",
       "<g id=\"node37\" class=\"node\">\n",
       "<title>36</title>\n",
       "<polygon fill=\"none\" stroke=\"black\" points=\"1332.5,-157 1210.5,-157 1210.5,-89 1332.5,-89 1332.5,-157\"/>\n",
       "<text text-anchor=\"middle\" x=\"1271.5\" y=\"-141.8\" font-family=\"Helvetica,sans-Serif\" font-size=\"14.00\">ShelveLoc &lt;= 0.5</text>\n",
       "<text text-anchor=\"middle\" x=\"1271.5\" y=\"-126.8\" font-family=\"Helvetica,sans-Serif\" font-size=\"14.00\">gini = 0.444</text>\n",
       "<text text-anchor=\"middle\" x=\"1271.5\" y=\"-111.8\" font-family=\"Helvetica,sans-Serif\" font-size=\"14.00\">samples = 3</text>\n",
       "<text text-anchor=\"middle\" x=\"1271.5\" y=\"-96.8\" font-family=\"Helvetica,sans-Serif\" font-size=\"14.00\">value = [1, 2]</text>\n",
       "</g>\n",
       "<!-- 35&#45;&gt;36 -->\n",
       "<g id=\"edge36\" class=\"edge\">\n",
       "<title>35&#45;&gt;36</title>\n",
       "<path fill=\"none\" stroke=\"black\" d=\"M1271.5,-192.88C1271.5,-184.78 1271.5,-175.98 1271.5,-167.47\"/>\n",
       "<polygon fill=\"black\" stroke=\"black\" points=\"1275,-167.3 1271.5,-157.3 1268,-167.3 1275,-167.3\"/>\n",
       "</g>\n",
       "<!-- 39 -->\n",
       "<g id=\"node40\" class=\"node\">\n",
       "<title>39</title>\n",
       "<polygon fill=\"none\" stroke=\"black\" points=\"1446,-149.5 1351,-149.5 1351,-96.5 1446,-96.5 1446,-149.5\"/>\n",
       "<text text-anchor=\"middle\" x=\"1398.5\" y=\"-134.3\" font-family=\"Helvetica,sans-Serif\" font-size=\"14.00\">gini = 0.0</text>\n",
       "<text text-anchor=\"middle\" x=\"1398.5\" y=\"-119.3\" font-family=\"Helvetica,sans-Serif\" font-size=\"14.00\">samples = 4</text>\n",
       "<text text-anchor=\"middle\" x=\"1398.5\" y=\"-104.3\" font-family=\"Helvetica,sans-Serif\" font-size=\"14.00\">value = [4, 0]</text>\n",
       "</g>\n",
       "<!-- 35&#45;&gt;39 -->\n",
       "<g id=\"edge39\" class=\"edge\">\n",
       "<title>35&#45;&gt;39</title>\n",
       "<path fill=\"none\" stroke=\"black\" d=\"M1312.73,-192.88C1327.52,-181.01 1344.16,-167.65 1358.81,-155.88\"/>\n",
       "<polygon fill=\"black\" stroke=\"black\" points=\"1361.12,-158.51 1366.73,-149.52 1356.74,-153.05 1361.12,-158.51\"/>\n",
       "</g>\n",
       "<!-- 37 -->\n",
       "<g id=\"node38\" class=\"node\">\n",
       "<title>37</title>\n",
       "<polygon fill=\"none\" stroke=\"black\" points=\"1327,-53 1232,-53 1232,0 1327,0 1327,-53\"/>\n",
       "<text text-anchor=\"middle\" x=\"1279.5\" y=\"-37.8\" font-family=\"Helvetica,sans-Serif\" font-size=\"14.00\">gini = 0.0</text>\n",
       "<text text-anchor=\"middle\" x=\"1279.5\" y=\"-22.8\" font-family=\"Helvetica,sans-Serif\" font-size=\"14.00\">samples = 1</text>\n",
       "<text text-anchor=\"middle\" x=\"1279.5\" y=\"-7.8\" font-family=\"Helvetica,sans-Serif\" font-size=\"14.00\">value = [1, 0]</text>\n",
       "</g>\n",
       "<!-- 36&#45;&gt;37 -->\n",
       "<g id=\"edge37\" class=\"edge\">\n",
       "<title>36&#45;&gt;37</title>\n",
       "<path fill=\"none\" stroke=\"black\" d=\"M1274.3,-88.95C1275,-80.62 1275.76,-71.65 1276.48,-63.2\"/>\n",
       "<polygon fill=\"black\" stroke=\"black\" points=\"1279.97,-63.5 1277.32,-53.24 1272.99,-62.91 1279.97,-63.5\"/>\n",
       "</g>\n",
       "<!-- 38 -->\n",
       "<g id=\"node39\" class=\"node\">\n",
       "<title>38</title>\n",
       "<polygon fill=\"none\" stroke=\"black\" points=\"1440,-53 1345,-53 1345,0 1440,0 1440,-53\"/>\n",
       "<text text-anchor=\"middle\" x=\"1392.5\" y=\"-37.8\" font-family=\"Helvetica,sans-Serif\" font-size=\"14.00\">gini = 0.0</text>\n",
       "<text text-anchor=\"middle\" x=\"1392.5\" y=\"-22.8\" font-family=\"Helvetica,sans-Serif\" font-size=\"14.00\">samples = 2</text>\n",
       "<text text-anchor=\"middle\" x=\"1392.5\" y=\"-7.8\" font-family=\"Helvetica,sans-Serif\" font-size=\"14.00\">value = [0, 2]</text>\n",
       "</g>\n",
       "<!-- 36&#45;&gt;38 -->\n",
       "<g id=\"edge38\" class=\"edge\">\n",
       "<title>36&#45;&gt;38</title>\n",
       "<path fill=\"none\" stroke=\"black\" d=\"M1313.82,-88.95C1326,-79.43 1339.27,-69.07 1351.38,-59.62\"/>\n",
       "<polygon fill=\"black\" stroke=\"black\" points=\"1353.82,-62.15 1359.55,-53.24 1349.51,-56.63 1353.82,-62.15\"/>\n",
       "</g>\n",
       "<!-- 41 -->\n",
       "<g id=\"node42\" class=\"node\">\n",
       "<title>41</title>\n",
       "<polygon fill=\"none\" stroke=\"black\" points=\"1784.5,-365 1650.5,-365 1650.5,-297 1784.5,-297 1784.5,-365\"/>\n",
       "<text text-anchor=\"middle\" x=\"1717.5\" y=\"-349.8\" font-family=\"Helvetica,sans-Serif\" font-size=\"14.00\">Advertising &lt;= 15.5</text>\n",
       "<text text-anchor=\"middle\" x=\"1717.5\" y=\"-334.8\" font-family=\"Helvetica,sans-Serif\" font-size=\"14.00\">gini = 0.198</text>\n",
       "<text text-anchor=\"middle\" x=\"1717.5\" y=\"-319.8\" font-family=\"Helvetica,sans-Serif\" font-size=\"14.00\">samples = 27</text>\n",
       "<text text-anchor=\"middle\" x=\"1717.5\" y=\"-304.8\" font-family=\"Helvetica,sans-Serif\" font-size=\"14.00\">value = [24, 3]</text>\n",
       "</g>\n",
       "<!-- 40&#45;&gt;41 -->\n",
       "<g id=\"edge41\" class=\"edge\">\n",
       "<title>40&#45;&gt;41</title>\n",
       "<path fill=\"none\" stroke=\"black\" d=\"M1717.5,-400.88C1717.5,-392.78 1717.5,-383.98 1717.5,-375.47\"/>\n",
       "<polygon fill=\"black\" stroke=\"black\" points=\"1721,-375.3 1717.5,-365.3 1714,-375.3 1721,-375.3\"/>\n",
       "</g>\n",
       "<!-- 50 -->\n",
       "<g id=\"node51\" class=\"node\">\n",
       "<title>50</title>\n",
       "<polygon fill=\"none\" stroke=\"black\" points=\"2138.5,-365 2028.5,-365 2028.5,-297 2138.5,-297 2138.5,-365\"/>\n",
       "<text text-anchor=\"middle\" x=\"2083.5\" y=\"-349.8\" font-family=\"Helvetica,sans-Serif\" font-size=\"14.00\">Price &lt;= 136.0</text>\n",
       "<text text-anchor=\"middle\" x=\"2083.5\" y=\"-334.8\" font-family=\"Helvetica,sans-Serif\" font-size=\"14.00\">gini = 0.48</text>\n",
       "<text text-anchor=\"middle\" x=\"2083.5\" y=\"-319.8\" font-family=\"Helvetica,sans-Serif\" font-size=\"14.00\">samples = 100</text>\n",
       "<text text-anchor=\"middle\" x=\"2083.5\" y=\"-304.8\" font-family=\"Helvetica,sans-Serif\" font-size=\"14.00\">value = [40, 60]</text>\n",
       "</g>\n",
       "<!-- 40&#45;&gt;50 -->\n",
       "<g id=\"edge50\" class=\"edge\">\n",
       "<title>40&#45;&gt;50</title>\n",
       "<path fill=\"none\" stroke=\"black\" d=\"M1778.76,-416.93C1845.19,-398.41 1950.79,-368.98 2018.61,-350.08\"/>\n",
       "<polygon fill=\"black\" stroke=\"black\" points=\"2019.64,-353.43 2028.33,-347.37 2017.76,-346.69 2019.64,-353.43\"/>\n",
       "</g>\n",
       "<!-- 42 -->\n",
       "<g id=\"node43\" class=\"node\">\n",
       "<title>42</title>\n",
       "<polygon fill=\"none\" stroke=\"black\" points=\"1706.5,-261 1604.5,-261 1604.5,-193 1706.5,-193 1706.5,-261\"/>\n",
       "<text text-anchor=\"middle\" x=\"1655.5\" y=\"-245.8\" font-family=\"Helvetica,sans-Serif\" font-size=\"14.00\">Age &lt;= 26.5</text>\n",
       "<text text-anchor=\"middle\" x=\"1655.5\" y=\"-230.8\" font-family=\"Helvetica,sans-Serif\" font-size=\"14.00\">gini = 0.083</text>\n",
       "<text text-anchor=\"middle\" x=\"1655.5\" y=\"-215.8\" font-family=\"Helvetica,sans-Serif\" font-size=\"14.00\">samples = 23</text>\n",
       "<text text-anchor=\"middle\" x=\"1655.5\" y=\"-200.8\" font-family=\"Helvetica,sans-Serif\" font-size=\"14.00\">value = [22, 1]</text>\n",
       "</g>\n",
       "<!-- 41&#45;&gt;42 -->\n",
       "<g id=\"edge42\" class=\"edge\">\n",
       "<title>41&#45;&gt;42</title>\n",
       "<path fill=\"none\" stroke=\"black\" d=\"M1697.37,-296.88C1692.17,-288.33 1686.51,-279.01 1681.07,-270.07\"/>\n",
       "<polygon fill=\"black\" stroke=\"black\" points=\"1683.93,-268.03 1675.74,-261.3 1677.94,-271.66 1683.93,-268.03\"/>\n",
       "</g>\n",
       "<!-- 47 -->\n",
       "<g id=\"node48\" class=\"node\">\n",
       "<title>47</title>\n",
       "<polygon fill=\"none\" stroke=\"black\" points=\"1836.5,-261 1724.5,-261 1724.5,-193 1836.5,-193 1836.5,-261\"/>\n",
       "<text text-anchor=\"middle\" x=\"1780.5\" y=\"-245.8\" font-family=\"Helvetica,sans-Serif\" font-size=\"14.00\">Income &lt;= 71.5</text>\n",
       "<text text-anchor=\"middle\" x=\"1780.5\" y=\"-230.8\" font-family=\"Helvetica,sans-Serif\" font-size=\"14.00\">gini = 0.5</text>\n",
       "<text text-anchor=\"middle\" x=\"1780.5\" y=\"-215.8\" font-family=\"Helvetica,sans-Serif\" font-size=\"14.00\">samples = 4</text>\n",
       "<text text-anchor=\"middle\" x=\"1780.5\" y=\"-200.8\" font-family=\"Helvetica,sans-Serif\" font-size=\"14.00\">value = [2, 2]</text>\n",
       "</g>\n",
       "<!-- 41&#45;&gt;47 -->\n",
       "<g id=\"edge47\" class=\"edge\">\n",
       "<title>41&#45;&gt;47</title>\n",
       "<path fill=\"none\" stroke=\"black\" d=\"M1737.95,-296.88C1743.24,-288.33 1748.99,-279.01 1754.51,-270.07\"/>\n",
       "<polygon fill=\"black\" stroke=\"black\" points=\"1757.66,-271.65 1759.93,-261.3 1751.7,-267.97 1757.66,-271.65\"/>\n",
       "</g>\n",
       "<!-- 43 -->\n",
       "<g id=\"node44\" class=\"node\">\n",
       "<title>43</title>\n",
       "<polygon fill=\"none\" stroke=\"black\" points=\"1590.5,-157 1464.5,-157 1464.5,-89 1590.5,-89 1590.5,-157\"/>\n",
       "<text text-anchor=\"middle\" x=\"1527.5\" y=\"-141.8\" font-family=\"Helvetica,sans-Serif\" font-size=\"14.00\">Advertising &lt;= 9.5</text>\n",
       "<text text-anchor=\"middle\" x=\"1527.5\" y=\"-126.8\" font-family=\"Helvetica,sans-Serif\" font-size=\"14.00\">gini = 0.444</text>\n",
       "<text text-anchor=\"middle\" x=\"1527.5\" y=\"-111.8\" font-family=\"Helvetica,sans-Serif\" font-size=\"14.00\">samples = 3</text>\n",
       "<text text-anchor=\"middle\" x=\"1527.5\" y=\"-96.8\" font-family=\"Helvetica,sans-Serif\" font-size=\"14.00\">value = [2, 1]</text>\n",
       "</g>\n",
       "<!-- 42&#45;&gt;43 -->\n",
       "<g id=\"edge43\" class=\"edge\">\n",
       "<title>42&#45;&gt;43</title>\n",
       "<path fill=\"none\" stroke=\"black\" d=\"M1613.94,-192.88C1602.21,-183.53 1589.32,-173.26 1577.15,-163.57\"/>\n",
       "<polygon fill=\"black\" stroke=\"black\" points=\"1579.29,-160.79 1569.29,-157.3 1574.93,-166.27 1579.29,-160.79\"/>\n",
       "</g>\n",
       "<!-- 46 -->\n",
       "<g id=\"node47\" class=\"node\">\n",
       "<title>46</title>\n",
       "<polygon fill=\"none\" stroke=\"black\" points=\"1710.5,-149.5 1608.5,-149.5 1608.5,-96.5 1710.5,-96.5 1710.5,-149.5\"/>\n",
       "<text text-anchor=\"middle\" x=\"1659.5\" y=\"-134.3\" font-family=\"Helvetica,sans-Serif\" font-size=\"14.00\">gini = 0.0</text>\n",
       "<text text-anchor=\"middle\" x=\"1659.5\" y=\"-119.3\" font-family=\"Helvetica,sans-Serif\" font-size=\"14.00\">samples = 20</text>\n",
       "<text text-anchor=\"middle\" x=\"1659.5\" y=\"-104.3\" font-family=\"Helvetica,sans-Serif\" font-size=\"14.00\">value = [20, 0]</text>\n",
       "</g>\n",
       "<!-- 42&#45;&gt;46 -->\n",
       "<g id=\"edge46\" class=\"edge\">\n",
       "<title>42&#45;&gt;46</title>\n",
       "<path fill=\"none\" stroke=\"black\" d=\"M1656.8,-192.88C1657.22,-182.22 1657.68,-170.35 1658.11,-159.52\"/>\n",
       "<polygon fill=\"black\" stroke=\"black\" points=\"1661.6,-159.65 1658.5,-149.52 1654.61,-159.38 1661.6,-159.65\"/>\n",
       "</g>\n",
       "<!-- 44 -->\n",
       "<g id=\"node45\" class=\"node\">\n",
       "<title>44</title>\n",
       "<polygon fill=\"none\" stroke=\"black\" points=\"1568,-53 1473,-53 1473,0 1568,0 1568,-53\"/>\n",
       "<text text-anchor=\"middle\" x=\"1520.5\" y=\"-37.8\" font-family=\"Helvetica,sans-Serif\" font-size=\"14.00\">gini = 0.0</text>\n",
       "<text text-anchor=\"middle\" x=\"1520.5\" y=\"-22.8\" font-family=\"Helvetica,sans-Serif\" font-size=\"14.00\">samples = 1</text>\n",
       "<text text-anchor=\"middle\" x=\"1520.5\" y=\"-7.8\" font-family=\"Helvetica,sans-Serif\" font-size=\"14.00\">value = [0, 1]</text>\n",
       "</g>\n",
       "<!-- 43&#45;&gt;44 -->\n",
       "<g id=\"edge44\" class=\"edge\">\n",
       "<title>43&#45;&gt;44</title>\n",
       "<path fill=\"none\" stroke=\"black\" d=\"M1525.05,-88.95C1524.44,-80.72 1523.79,-71.85 1523.17,-63.48\"/>\n",
       "<polygon fill=\"black\" stroke=\"black\" points=\"1526.64,-62.95 1522.41,-53.24 1519.65,-63.47 1526.64,-62.95\"/>\n",
       "</g>\n",
       "<!-- 45 -->\n",
       "<g id=\"node46\" class=\"node\">\n",
       "<title>45</title>\n",
       "<polygon fill=\"none\" stroke=\"black\" points=\"1681,-53 1586,-53 1586,0 1681,0 1681,-53\"/>\n",
       "<text text-anchor=\"middle\" x=\"1633.5\" y=\"-37.8\" font-family=\"Helvetica,sans-Serif\" font-size=\"14.00\">gini = 0.0</text>\n",
       "<text text-anchor=\"middle\" x=\"1633.5\" y=\"-22.8\" font-family=\"Helvetica,sans-Serif\" font-size=\"14.00\">samples = 2</text>\n",
       "<text text-anchor=\"middle\" x=\"1633.5\" y=\"-7.8\" font-family=\"Helvetica,sans-Serif\" font-size=\"14.00\">value = [2, 0]</text>\n",
       "</g>\n",
       "<!-- 43&#45;&gt;45 -->\n",
       "<g id=\"edge45\" class=\"edge\">\n",
       "<title>43&#45;&gt;45</title>\n",
       "<path fill=\"none\" stroke=\"black\" d=\"M1564.57,-88.95C1575.04,-79.62 1586.42,-69.47 1596.86,-60.16\"/>\n",
       "<polygon fill=\"black\" stroke=\"black\" points=\"1599.5,-62.5 1604.63,-53.24 1594.84,-57.28 1599.5,-62.5\"/>\n",
       "</g>\n",
       "<!-- 48 -->\n",
       "<g id=\"node49\" class=\"node\">\n",
       "<title>48</title>\n",
       "<polygon fill=\"none\" stroke=\"black\" points=\"1824,-149.5 1729,-149.5 1729,-96.5 1824,-96.5 1824,-149.5\"/>\n",
       "<text text-anchor=\"middle\" x=\"1776.5\" y=\"-134.3\" font-family=\"Helvetica,sans-Serif\" font-size=\"14.00\">gini = 0.0</text>\n",
       "<text text-anchor=\"middle\" x=\"1776.5\" y=\"-119.3\" font-family=\"Helvetica,sans-Serif\" font-size=\"14.00\">samples = 2</text>\n",
       "<text text-anchor=\"middle\" x=\"1776.5\" y=\"-104.3\" font-family=\"Helvetica,sans-Serif\" font-size=\"14.00\">value = [2, 0]</text>\n",
       "</g>\n",
       "<!-- 47&#45;&gt;48 -->\n",
       "<g id=\"edge48\" class=\"edge\">\n",
       "<title>47&#45;&gt;48</title>\n",
       "<path fill=\"none\" stroke=\"black\" d=\"M1779.2,-192.88C1778.78,-182.22 1778.32,-170.35 1777.89,-159.52\"/>\n",
       "<polygon fill=\"black\" stroke=\"black\" points=\"1781.39,-159.38 1777.5,-149.52 1774.4,-159.65 1781.39,-159.38\"/>\n",
       "</g>\n",
       "<!-- 49 -->\n",
       "<g id=\"node50\" class=\"node\">\n",
       "<title>49</title>\n",
       "<polygon fill=\"none\" stroke=\"black\" points=\"1937,-149.5 1842,-149.5 1842,-96.5 1937,-96.5 1937,-149.5\"/>\n",
       "<text text-anchor=\"middle\" x=\"1889.5\" y=\"-134.3\" font-family=\"Helvetica,sans-Serif\" font-size=\"14.00\">gini = 0.0</text>\n",
       "<text text-anchor=\"middle\" x=\"1889.5\" y=\"-119.3\" font-family=\"Helvetica,sans-Serif\" font-size=\"14.00\">samples = 2</text>\n",
       "<text text-anchor=\"middle\" x=\"1889.5\" y=\"-104.3\" font-family=\"Helvetica,sans-Serif\" font-size=\"14.00\">value = [0, 2]</text>\n",
       "</g>\n",
       "<!-- 47&#45;&gt;49 -->\n",
       "<g id=\"edge49\" class=\"edge\">\n",
       "<title>47&#45;&gt;49</title>\n",
       "<path fill=\"none\" stroke=\"black\" d=\"M1815.89,-192.88C1828.35,-181.23 1842.33,-168.14 1854.74,-156.53\"/>\n",
       "<polygon fill=\"black\" stroke=\"black\" points=\"1857.32,-158.91 1862.23,-149.52 1852.54,-153.8 1857.32,-158.91\"/>\n",
       "</g>\n",
       "<!-- 51 -->\n",
       "<g id=\"node52\" class=\"node\">\n",
       "<title>51</title>\n",
       "<polygon fill=\"none\" stroke=\"black\" points=\"2154,-261 2013,-261 2013,-193 2154,-193 2154,-261\"/>\n",
       "<text text-anchor=\"middle\" x=\"2083.5\" y=\"-245.8\" font-family=\"Helvetica,sans-Serif\" font-size=\"14.00\">CompPrice &lt;= 114.0</text>\n",
       "<text text-anchor=\"middle\" x=\"2083.5\" y=\"-230.8\" font-family=\"Helvetica,sans-Serif\" font-size=\"14.00\">gini = 0.436</text>\n",
       "<text text-anchor=\"middle\" x=\"2083.5\" y=\"-215.8\" font-family=\"Helvetica,sans-Serif\" font-size=\"14.00\">samples = 84</text>\n",
       "<text text-anchor=\"middle\" x=\"2083.5\" y=\"-200.8\" font-family=\"Helvetica,sans-Serif\" font-size=\"14.00\">value = [27, 57]</text>\n",
       "</g>\n",
       "<!-- 50&#45;&gt;51 -->\n",
       "<g id=\"edge51\" class=\"edge\">\n",
       "<title>50&#45;&gt;51</title>\n",
       "<path fill=\"none\" stroke=\"black\" d=\"M2083.5,-296.88C2083.5,-288.78 2083.5,-279.98 2083.5,-271.47\"/>\n",
       "<polygon fill=\"black\" stroke=\"black\" points=\"2087,-271.3 2083.5,-261.3 2080,-271.3 2087,-271.3\"/>\n",
       "</g>\n",
       "<!-- 58 -->\n",
       "<g id=\"node59\" class=\"node\">\n",
       "<title>58</title>\n",
       "<polygon fill=\"none\" stroke=\"black\" points=\"2439.5,-261 2305.5,-261 2305.5,-193 2439.5,-193 2439.5,-261\"/>\n",
       "<text text-anchor=\"middle\" x=\"2372.5\" y=\"-245.8\" font-family=\"Helvetica,sans-Serif\" font-size=\"14.00\">Advertising &lt;= 23.0</text>\n",
       "<text text-anchor=\"middle\" x=\"2372.5\" y=\"-230.8\" font-family=\"Helvetica,sans-Serif\" font-size=\"14.00\">gini = 0.305</text>\n",
       "<text text-anchor=\"middle\" x=\"2372.5\" y=\"-215.8\" font-family=\"Helvetica,sans-Serif\" font-size=\"14.00\">samples = 16</text>\n",
       "<text text-anchor=\"middle\" x=\"2372.5\" y=\"-200.8\" font-family=\"Helvetica,sans-Serif\" font-size=\"14.00\">value = [13, 3]</text>\n",
       "</g>\n",
       "<!-- 50&#45;&gt;58 -->\n",
       "<g id=\"edge58\" class=\"edge\">\n",
       "<title>50&#45;&gt;58</title>\n",
       "<path fill=\"none\" stroke=\"black\" d=\"M2138.54,-310.57C2183.06,-294.86 2246.27,-272.55 2295.77,-255.08\"/>\n",
       "<polygon fill=\"black\" stroke=\"black\" points=\"2297.21,-258.28 2305.47,-251.66 2294.88,-251.68 2297.21,-258.28\"/>\n",
       "</g>\n",
       "<!-- 52 -->\n",
       "<g id=\"node53\" class=\"node\">\n",
       "<title>52</title>\n",
       "<polygon fill=\"none\" stroke=\"black\" points=\"2077.5,-157 1955.5,-157 1955.5,-89 2077.5,-89 2077.5,-157\"/>\n",
       "<text text-anchor=\"middle\" x=\"2016.5\" y=\"-141.8\" font-family=\"Helvetica,sans-Serif\" font-size=\"14.00\">ShelveLoc &lt;= 1.5</text>\n",
       "<text text-anchor=\"middle\" x=\"2016.5\" y=\"-126.8\" font-family=\"Helvetica,sans-Serif\" font-size=\"14.00\">gini = 0.444</text>\n",
       "<text text-anchor=\"middle\" x=\"2016.5\" y=\"-111.8\" font-family=\"Helvetica,sans-Serif\" font-size=\"14.00\">samples = 18</text>\n",
       "<text text-anchor=\"middle\" x=\"2016.5\" y=\"-96.8\" font-family=\"Helvetica,sans-Serif\" font-size=\"14.00\">value = [12, 6]</text>\n",
       "</g>\n",
       "<!-- 51&#45;&gt;52 -->\n",
       "<g id=\"edge52\" class=\"edge\">\n",
       "<title>51&#45;&gt;52</title>\n",
       "<path fill=\"none\" stroke=\"black\" d=\"M2061.75,-192.88C2056.07,-184.24 2049.88,-174.82 2043.95,-165.79\"/>\n",
       "<polygon fill=\"black\" stroke=\"black\" points=\"2046.79,-163.74 2038.37,-157.3 2040.94,-167.58 2046.79,-163.74\"/>\n",
       "</g>\n",
       "<!-- 55 -->\n",
       "<g id=\"node56\" class=\"node\">\n",
       "<title>55</title>\n",
       "<polygon fill=\"none\" stroke=\"black\" points=\"2205.5,-157 2095.5,-157 2095.5,-89 2205.5,-89 2205.5,-157\"/>\n",
       "<text text-anchor=\"middle\" x=\"2150.5\" y=\"-141.8\" font-family=\"Helvetica,sans-Serif\" font-size=\"14.00\">Price &lt;= 127.5</text>\n",
       "<text text-anchor=\"middle\" x=\"2150.5\" y=\"-126.8\" font-family=\"Helvetica,sans-Serif\" font-size=\"14.00\">gini = 0.351</text>\n",
       "<text text-anchor=\"middle\" x=\"2150.5\" y=\"-111.8\" font-family=\"Helvetica,sans-Serif\" font-size=\"14.00\">samples = 66</text>\n",
       "<text text-anchor=\"middle\" x=\"2150.5\" y=\"-96.8\" font-family=\"Helvetica,sans-Serif\" font-size=\"14.00\">value = [15, 51]</text>\n",
       "</g>\n",
       "<!-- 51&#45;&gt;55 -->\n",
       "<g id=\"edge55\" class=\"edge\">\n",
       "<title>51&#45;&gt;55</title>\n",
       "<path fill=\"none\" stroke=\"black\" d=\"M2105.25,-192.88C2110.93,-184.24 2117.12,-174.82 2123.05,-165.79\"/>\n",
       "<polygon fill=\"black\" stroke=\"black\" points=\"2126.06,-167.58 2128.63,-157.3 2120.21,-163.74 2126.06,-167.58\"/>\n",
       "</g>\n",
       "<!-- 53 -->\n",
       "<g id=\"node54\" class=\"node\">\n",
       "<title>53</title>\n",
       "<polygon fill=\"none\" stroke=\"black\" points=\"1947,-53 1852,-53 1852,0 1947,0 1947,-53\"/>\n",
       "<text text-anchor=\"middle\" x=\"1899.5\" y=\"-37.8\" font-family=\"Helvetica,sans-Serif\" font-size=\"14.00\">gini = 0.0</text>\n",
       "<text text-anchor=\"middle\" x=\"1899.5\" y=\"-22.8\" font-family=\"Helvetica,sans-Serif\" font-size=\"14.00\">samples = 4</text>\n",
       "<text text-anchor=\"middle\" x=\"1899.5\" y=\"-7.8\" font-family=\"Helvetica,sans-Serif\" font-size=\"14.00\">value = [0, 4]</text>\n",
       "</g>\n",
       "<!-- 52&#45;&gt;53 -->\n",
       "<g id=\"edge53\" class=\"edge\">\n",
       "<title>52&#45;&gt;53</title>\n",
       "<path fill=\"none\" stroke=\"black\" d=\"M1975.58,-88.95C1963.8,-79.43 1950.97,-69.07 1939.26,-59.62\"/>\n",
       "<polygon fill=\"black\" stroke=\"black\" points=\"1941.34,-56.8 1931.36,-53.24 1936.94,-62.24 1941.34,-56.8\"/>\n",
       "</g>\n",
       "<!-- 54 -->\n",
       "<g id=\"node55\" class=\"node\">\n",
       "<title>54</title>\n",
       "<polygon fill=\"none\" stroke=\"black\" points=\"2067.5,-53 1965.5,-53 1965.5,0 2067.5,0 2067.5,-53\"/>\n",
       "<text text-anchor=\"middle\" x=\"2016.5\" y=\"-37.8\" font-family=\"Helvetica,sans-Serif\" font-size=\"14.00\">gini = 0.245</text>\n",
       "<text text-anchor=\"middle\" x=\"2016.5\" y=\"-22.8\" font-family=\"Helvetica,sans-Serif\" font-size=\"14.00\">samples = 14</text>\n",
       "<text text-anchor=\"middle\" x=\"2016.5\" y=\"-7.8\" font-family=\"Helvetica,sans-Serif\" font-size=\"14.00\">value = [12, 2]</text>\n",
       "</g>\n",
       "<!-- 52&#45;&gt;54 -->\n",
       "<g id=\"edge54\" class=\"edge\">\n",
       "<title>52&#45;&gt;54</title>\n",
       "<path fill=\"none\" stroke=\"black\" d=\"M2016.5,-88.95C2016.5,-80.72 2016.5,-71.85 2016.5,-63.48\"/>\n",
       "<polygon fill=\"black\" stroke=\"black\" points=\"2020,-63.24 2016.5,-53.24 2013,-63.24 2020,-63.24\"/>\n",
       "</g>\n",
       "<!-- 56 -->\n",
       "<g id=\"node57\" class=\"node\">\n",
       "<title>56</title>\n",
       "<polygon fill=\"none\" stroke=\"black\" points=\"2187.5,-53 2085.5,-53 2085.5,0 2187.5,0 2187.5,-53\"/>\n",
       "<text text-anchor=\"middle\" x=\"2136.5\" y=\"-37.8\" font-family=\"Helvetica,sans-Serif\" font-size=\"14.00\">gini = 0.227</text>\n",
       "<text text-anchor=\"middle\" x=\"2136.5\" y=\"-22.8\" font-family=\"Helvetica,sans-Serif\" font-size=\"14.00\">samples = 46</text>\n",
       "<text text-anchor=\"middle\" x=\"2136.5\" y=\"-7.8\" font-family=\"Helvetica,sans-Serif\" font-size=\"14.00\">value = [6, 40]</text>\n",
       "</g>\n",
       "<!-- 55&#45;&gt;56 -->\n",
       "<g id=\"edge56\" class=\"edge\">\n",
       "<title>55&#45;&gt;56</title>\n",
       "<path fill=\"none\" stroke=\"black\" d=\"M2145.6,-88.95C2144.37,-80.62 2143.04,-71.65 2141.79,-63.2\"/>\n",
       "<polygon fill=\"black\" stroke=\"black\" points=\"2145.24,-62.62 2140.31,-53.24 2138.32,-63.64 2145.24,-62.62\"/>\n",
       "</g>\n",
       "<!-- 57 -->\n",
       "<g id=\"node58\" class=\"node\">\n",
       "<title>57</title>\n",
       "<polygon fill=\"none\" stroke=\"black\" points=\"2307,-53 2206,-53 2206,0 2307,0 2307,-53\"/>\n",
       "<text text-anchor=\"middle\" x=\"2256.5\" y=\"-37.8\" font-family=\"Helvetica,sans-Serif\" font-size=\"14.00\">gini = 0.495</text>\n",
       "<text text-anchor=\"middle\" x=\"2256.5\" y=\"-22.8\" font-family=\"Helvetica,sans-Serif\" font-size=\"14.00\">samples = 20</text>\n",
       "<text text-anchor=\"middle\" x=\"2256.5\" y=\"-7.8\" font-family=\"Helvetica,sans-Serif\" font-size=\"14.00\">value = [9, 11]</text>\n",
       "</g>\n",
       "<!-- 55&#45;&gt;57 -->\n",
       "<g id=\"edge57\" class=\"edge\">\n",
       "<title>55&#45;&gt;57</title>\n",
       "<path fill=\"none\" stroke=\"black\" d=\"M2187.57,-88.95C2198.04,-79.62 2209.42,-69.47 2219.86,-60.16\"/>\n",
       "<polygon fill=\"black\" stroke=\"black\" points=\"2222.5,-62.5 2227.63,-53.24 2217.84,-57.28 2222.5,-62.5\"/>\n",
       "</g>\n",
       "<!-- 59 -->\n",
       "<g id=\"node60\" class=\"node\">\n",
       "<title>59</title>\n",
       "<polygon fill=\"none\" stroke=\"black\" points=\"2433.5,-157 2311.5,-157 2311.5,-89 2433.5,-89 2433.5,-157\"/>\n",
       "<text text-anchor=\"middle\" x=\"2372.5\" y=\"-141.8\" font-family=\"Helvetica,sans-Serif\" font-size=\"14.00\">ShelveLoc &lt;= 1.5</text>\n",
       "<text text-anchor=\"middle\" x=\"2372.5\" y=\"-126.8\" font-family=\"Helvetica,sans-Serif\" font-size=\"14.00\">gini = 0.231</text>\n",
       "<text text-anchor=\"middle\" x=\"2372.5\" y=\"-111.8\" font-family=\"Helvetica,sans-Serif\" font-size=\"14.00\">samples = 15</text>\n",
       "<text text-anchor=\"middle\" x=\"2372.5\" y=\"-96.8\" font-family=\"Helvetica,sans-Serif\" font-size=\"14.00\">value = [13, 2]</text>\n",
       "</g>\n",
       "<!-- 58&#45;&gt;59 -->\n",
       "<g id=\"edge59\" class=\"edge\">\n",
       "<title>58&#45;&gt;59</title>\n",
       "<path fill=\"none\" stroke=\"black\" d=\"M2372.5,-192.88C2372.5,-184.78 2372.5,-175.98 2372.5,-167.47\"/>\n",
       "<polygon fill=\"black\" stroke=\"black\" points=\"2376,-167.3 2372.5,-157.3 2369,-167.3 2376,-167.3\"/>\n",
       "</g>\n",
       "<!-- 62 -->\n",
       "<g id=\"node63\" class=\"node\">\n",
       "<title>62</title>\n",
       "<polygon fill=\"none\" stroke=\"black\" points=\"2547,-149.5 2452,-149.5 2452,-96.5 2547,-96.5 2547,-149.5\"/>\n",
       "<text text-anchor=\"middle\" x=\"2499.5\" y=\"-134.3\" font-family=\"Helvetica,sans-Serif\" font-size=\"14.00\">gini = 0.0</text>\n",
       "<text text-anchor=\"middle\" x=\"2499.5\" y=\"-119.3\" font-family=\"Helvetica,sans-Serif\" font-size=\"14.00\">samples = 1</text>\n",
       "<text text-anchor=\"middle\" x=\"2499.5\" y=\"-104.3\" font-family=\"Helvetica,sans-Serif\" font-size=\"14.00\">value = [0, 1]</text>\n",
       "</g>\n",
       "<!-- 58&#45;&gt;62 -->\n",
       "<g id=\"edge62\" class=\"edge\">\n",
       "<title>58&#45;&gt;62</title>\n",
       "<path fill=\"none\" stroke=\"black\" d=\"M2413.73,-192.88C2428.52,-181.01 2445.16,-167.65 2459.81,-155.88\"/>\n",
       "<polygon fill=\"black\" stroke=\"black\" points=\"2462.12,-158.51 2467.73,-149.52 2457.74,-153.05 2462.12,-158.51\"/>\n",
       "</g>\n",
       "<!-- 60 -->\n",
       "<g id=\"node61\" class=\"node\">\n",
       "<title>60</title>\n",
       "<polygon fill=\"none\" stroke=\"black\" points=\"2420,-53 2325,-53 2325,0 2420,0 2420,-53\"/>\n",
       "<text text-anchor=\"middle\" x=\"2372.5\" y=\"-37.8\" font-family=\"Helvetica,sans-Serif\" font-size=\"14.00\">gini = 0.48</text>\n",
       "<text text-anchor=\"middle\" x=\"2372.5\" y=\"-22.8\" font-family=\"Helvetica,sans-Serif\" font-size=\"14.00\">samples = 5</text>\n",
       "<text text-anchor=\"middle\" x=\"2372.5\" y=\"-7.8\" font-family=\"Helvetica,sans-Serif\" font-size=\"14.00\">value = [3, 2]</text>\n",
       "</g>\n",
       "<!-- 59&#45;&gt;60 -->\n",
       "<g id=\"edge60\" class=\"edge\">\n",
       "<title>59&#45;&gt;60</title>\n",
       "<path fill=\"none\" stroke=\"black\" d=\"M2372.5,-88.95C2372.5,-80.72 2372.5,-71.85 2372.5,-63.48\"/>\n",
       "<polygon fill=\"black\" stroke=\"black\" points=\"2376,-63.24 2372.5,-53.24 2369,-63.24 2376,-63.24\"/>\n",
       "</g>\n",
       "<!-- 61 -->\n",
       "<g id=\"node62\" class=\"node\">\n",
       "<title>61</title>\n",
       "<polygon fill=\"none\" stroke=\"black\" points=\"2540.5,-53 2438.5,-53 2438.5,0 2540.5,0 2540.5,-53\"/>\n",
       "<text text-anchor=\"middle\" x=\"2489.5\" y=\"-37.8\" font-family=\"Helvetica,sans-Serif\" font-size=\"14.00\">gini = 0.0</text>\n",
       "<text text-anchor=\"middle\" x=\"2489.5\" y=\"-22.8\" font-family=\"Helvetica,sans-Serif\" font-size=\"14.00\">samples = 10</text>\n",
       "<text text-anchor=\"middle\" x=\"2489.5\" y=\"-7.8\" font-family=\"Helvetica,sans-Serif\" font-size=\"14.00\">value = [10, 0]</text>\n",
       "</g>\n",
       "<!-- 59&#45;&gt;61 -->\n",
       "<g id=\"edge61\" class=\"edge\">\n",
       "<title>59&#45;&gt;61</title>\n",
       "<path fill=\"none\" stroke=\"black\" d=\"M2413.42,-88.95C2425.2,-79.43 2438.03,-69.07 2449.74,-59.62\"/>\n",
       "<polygon fill=\"black\" stroke=\"black\" points=\"2452.06,-62.24 2457.64,-53.24 2447.66,-56.8 2452.06,-62.24\"/>\n",
       "</g>\n",
       "</g>\n",
       "</svg>\n"
      ],
      "text/plain": [
       "<graphviz.sources.Source at 0x26215e91d50>"
      ]
     },
     "execution_count": 10,
     "metadata": {},
     "output_type": "execute_result"
    }
   ],
   "source": [
    "export_graphviz(carseats_tree, \n",
    "                out_file = \"carseat_tree.dot\", \n",
    "                feature_names = X_train.columns)\n",
    "\n",
    "with open(\"carseat_tree.dot\") as f:\n",
    "    dot_graph = f.read()\n",
    "graphviz.Source(dot_graph)"
   ]
  },
  {
   "cell_type": "markdown",
   "metadata": {},
   "source": [
    "### <span style=\"color:blue\"> Result: The key factor that strongly influences whether sales are classified as \"High\" seems to be the product's price.</span>\n",
    "\n",
    "<span style=\"color:blue\">**Condition:** Price <= 92.5: This represents the condition for splitting the data at this node. It means that the decision tree is making a choice based on whether the \"Price\" variable is less than or equal to 92.5.</span>\n",
    "\n",
    "<span style=\"color:blue\">**Gini Index:** gini = 0.479: The Gini index is a measure of impurity or how often a randomly chosen element would be incorrectly labeled. A lower Gini index indicates better purity. In this case, 0.479 is the Gini impurity at this node.</span>\n",
    "    \n",
    "<span style=\"color:blue\">**Sample Size:** samples = 320: This tells us the number of observations in the dataset that reached this node. In this case, there are 320 samples.</span>\n",
    "    \n",
    "<span style=\"color:blue\">**Class Distribution:** value = [193, 127]: This shows the distribution of the target variable (or class) in the samples that reached this node. For instance, there are 193 samples belonging to one class and 127 samples belonging to another class. The order of classes can depend on how they are encoded; it's common for the first value to represent one class and the second value another.</span>\n",
    "    \n",
    "<span style=\"color:blue\">In simpler terms, this first node is saying that, based on the \"Price\" being less than or equal to 92.5, there are 320 products in our dataset. Out of these, 193 fall into one category, and 127 fall into another. The decision tree makes further splits based on similar conditions to create a more detailed classification.</span>"
   ]
  },
  {
   "cell_type": "markdown",
   "metadata": {},
   "source": [
    "## <span style=\"color:blue\">Step 5: Evaluation on test dataset: </span>\n",
    "<span style=\"color:blue\">Now, let's check how well the tree performs on the test data. We can use the predict() function for this. Afterward, we'll create a confusion matrix, revealing that our predictions are accurate for approximately 70% of the test dataset.</span>"
   ]
  },
  {
   "cell_type": "code",
   "execution_count": 13,
   "metadata": {
    "jupyter": {
     "outputs_hidden": false
    }
   },
   "outputs": [
    {
     "name": "stdout",
     "output_type": "stream",
     "text": [
      "     No  Yes\n",
      "No   27    8\n",
      "Yes  16   29\n"
     ]
    }
   ],
   "source": [
    "pred = carseats_tree.predict(X_test)\n",
    "cm = pd.DataFrame(confusion_matrix(y_test, pred).T, \n",
    "                  index = ['No', 'Yes'], \n",
    "                  columns = ['No', 'Yes'])\n",
    "print(cm)\n",
    "# (27+29)/80 = 0.7"
   ]
  },
  {
   "cell_type": "markdown",
   "metadata": {},
   "source": [
    "# <span style=\"color:orange\">Part 3: Boston dataset Decision tree</span>"
   ]
  },
  {
   "cell_type": "markdown",
   "metadata": {},
   "source": [
    "## <span style=\"color:blue\">Step 1: Reading the Boston dataset</span>\n",
    "\n",
    "<span style=\"color:blue\">Now, let's see how a regression tree works with the Boston dataset from the MASS library. Initially, we set up a training set and apply the tree to this training data. Our focus is on predicting medv (median home value).</span>"
   ]
  },
  {
   "cell_type": "code",
   "execution_count": 15,
   "metadata": {
    "jupyter": {
     "outputs_hidden": false
    }
   },
   "outputs": [],
   "source": [
    "boston_df = pd.read_csv('Boston.csv')\n",
    "X = boston_df.drop('medv', axis = 1)\n",
    "y = boston_df.medv\n",
    "X_train, X_test, y_train, y_test = train_test_split(X, y, train_size = 0.8, random_state = 0)"
   ]
  },
  {
   "cell_type": "markdown",
   "metadata": {},
   "source": [
    "## <span style=\"color:blue\">Step 2: Fitting Classification Trees:</span>"
   ]
  },
  {
   "cell_type": "code",
   "execution_count": 16,
   "metadata": {},
   "outputs": [
    {
     "data": {
      "text/html": [
       "<style>#sk-container-id-1 {color: black;}#sk-container-id-1 pre{padding: 0;}#sk-container-id-1 div.sk-toggleable {background-color: white;}#sk-container-id-1 label.sk-toggleable__label {cursor: pointer;display: block;width: 100%;margin-bottom: 0;padding: 0.3em;box-sizing: border-box;text-align: center;}#sk-container-id-1 label.sk-toggleable__label-arrow:before {content: \"▸\";float: left;margin-right: 0.25em;color: #696969;}#sk-container-id-1 label.sk-toggleable__label-arrow:hover:before {color: black;}#sk-container-id-1 div.sk-estimator:hover label.sk-toggleable__label-arrow:before {color: black;}#sk-container-id-1 div.sk-toggleable__content {max-height: 0;max-width: 0;overflow: hidden;text-align: left;background-color: #f0f8ff;}#sk-container-id-1 div.sk-toggleable__content pre {margin: 0.2em;color: black;border-radius: 0.25em;background-color: #f0f8ff;}#sk-container-id-1 input.sk-toggleable__control:checked~div.sk-toggleable__content {max-height: 200px;max-width: 100%;overflow: auto;}#sk-container-id-1 input.sk-toggleable__control:checked~label.sk-toggleable__label-arrow:before {content: \"▾\";}#sk-container-id-1 div.sk-estimator input.sk-toggleable__control:checked~label.sk-toggleable__label {background-color: #d4ebff;}#sk-container-id-1 div.sk-label input.sk-toggleable__control:checked~label.sk-toggleable__label {background-color: #d4ebff;}#sk-container-id-1 input.sk-hidden--visually {border: 0;clip: rect(1px 1px 1px 1px);clip: rect(1px, 1px, 1px, 1px);height: 1px;margin: -1px;overflow: hidden;padding: 0;position: absolute;width: 1px;}#sk-container-id-1 div.sk-estimator {font-family: monospace;background-color: #f0f8ff;border: 1px dotted black;border-radius: 0.25em;box-sizing: border-box;margin-bottom: 0.5em;}#sk-container-id-1 div.sk-estimator:hover {background-color: #d4ebff;}#sk-container-id-1 div.sk-parallel-item::after {content: \"\";width: 100%;border-bottom: 1px solid gray;flex-grow: 1;}#sk-container-id-1 div.sk-label:hover label.sk-toggleable__label {background-color: #d4ebff;}#sk-container-id-1 div.sk-serial::before {content: \"\";position: absolute;border-left: 1px solid gray;box-sizing: border-box;top: 0;bottom: 0;left: 50%;z-index: 0;}#sk-container-id-1 div.sk-serial {display: flex;flex-direction: column;align-items: center;background-color: white;padding-right: 0.2em;padding-left: 0.2em;position: relative;}#sk-container-id-1 div.sk-item {position: relative;z-index: 1;}#sk-container-id-1 div.sk-parallel {display: flex;align-items: stretch;justify-content: center;background-color: white;position: relative;}#sk-container-id-1 div.sk-item::before, #sk-container-id-1 div.sk-parallel-item::before {content: \"\";position: absolute;border-left: 1px solid gray;box-sizing: border-box;top: 0;bottom: 0;left: 50%;z-index: -1;}#sk-container-id-1 div.sk-parallel-item {display: flex;flex-direction: column;z-index: 1;position: relative;background-color: white;}#sk-container-id-1 div.sk-parallel-item:first-child::after {align-self: flex-end;width: 50%;}#sk-container-id-1 div.sk-parallel-item:last-child::after {align-self: flex-start;width: 50%;}#sk-container-id-1 div.sk-parallel-item:only-child::after {width: 0;}#sk-container-id-1 div.sk-dashed-wrapped {border: 1px dashed gray;margin: 0 0.4em 0.5em 0.4em;box-sizing: border-box;padding-bottom: 0.4em;background-color: white;}#sk-container-id-1 div.sk-label label {font-family: monospace;font-weight: bold;display: inline-block;line-height: 1.2em;}#sk-container-id-1 div.sk-label-container {text-align: center;}#sk-container-id-1 div.sk-container {/* jupyter's `normalize.less` sets `[hidden] { display: none; }` but bootstrap.min.css set `[hidden] { display: none !important; }` so we also need the `!important` here to be able to override the default hidden behavior on the sphinx rendered scikit-learn.org. See: https://github.com/scikit-learn/scikit-learn/issues/21755 */display: inline-block !important;position: relative;}#sk-container-id-1 div.sk-text-repr-fallback {display: none;}</style><div id=\"sk-container-id-1\" class=\"sk-top-container\"><div class=\"sk-text-repr-fallback\"><pre>DecisionTreeRegressor(max_depth=2)</pre><b>In a Jupyter environment, please rerun this cell to show the HTML representation or trust the notebook. <br />On GitHub, the HTML representation is unable to render, please try loading this page with nbviewer.org.</b></div><div class=\"sk-container\" hidden><div class=\"sk-item\"><div class=\"sk-estimator sk-toggleable\"><input class=\"sk-toggleable__control sk-hidden--visually\" id=\"sk-estimator-id-1\" type=\"checkbox\" checked><label for=\"sk-estimator-id-1\" class=\"sk-toggleable__label sk-toggleable__label-arrow\">DecisionTreeRegressor</label><div class=\"sk-toggleable__content\"><pre>DecisionTreeRegressor(max_depth=2)</pre></div></div></div></div></div>"
      ],
      "text/plain": [
       "DecisionTreeRegressor(max_depth=2)"
      ]
     },
     "execution_count": 16,
     "metadata": {},
     "output_type": "execute_result"
    }
   ],
   "source": [
    "# Pruning not supported. Choosing max depth 2)\n",
    "regr_tree_boston = DecisionTreeRegressor(max_depth = 2)\n",
    "regr_tree_boston.fit(X_train, y_train)"
   ]
  },
  {
   "cell_type": "markdown",
   "metadata": {},
   "source": [
    "## <span style=\"color:blue\">Step 3: Evaluation on train dataset: </span>"
   ]
  },
  {
   "cell_type": "code",
   "execution_count": 17,
   "metadata": {},
   "outputs": [
    {
     "data": {
      "text/plain": [
       "0.7266887390898031"
      ]
     },
     "execution_count": 17,
     "metadata": {},
     "output_type": "execute_result"
    }
   ],
   "source": [
    "regr_tree_boston.score(X_train, y_train)"
   ]
  },
  {
   "cell_type": "markdown",
   "metadata": {},
   "source": [
    "<span style=\"color:blue\">**Result: the accuracy is 72%. it means that model was 72% successful in prediction in trining model, but as I mentioned in carseats too, we should evaluate the model on test dataset as well, because it is possible a model has overfitting means that it has a high accuracy in prediction in training model but it is unable to prdict the new unseen data like test dataset.**</span>"
   ]
  },
  {
   "cell_type": "markdown",
   "metadata": {},
   "source": [
    "## <span style=\"color:blue\">Step 4: Creating the decision tree: </span>"
   ]
  },
  {
   "cell_type": "code",
   "execution_count": 18,
   "metadata": {
    "jupyter": {
     "outputs_hidden": false
    }
   },
   "outputs": [
    {
     "data": {
      "image/svg+xml": [
       "<?xml version=\"1.0\" encoding=\"UTF-8\" standalone=\"no\"?>\n",
       "<!DOCTYPE svg PUBLIC \"-//W3C//DTD SVG 1.1//EN\"\n",
       " \"http://www.w3.org/Graphics/SVG/1.1/DTD/svg11.dtd\">\n",
       "<!-- Generated by graphviz version 2.50.0 (0)\n",
       " -->\n",
       "<!-- Title: Tree Pages: 1 -->\n",
       "<svg width=\"694pt\" height=\"269pt\"\n",
       " viewBox=\"0.00 0.00 694.00 269.00\" xmlns=\"http://www.w3.org/2000/svg\" xmlns:xlink=\"http://www.w3.org/1999/xlink\">\n",
       "<g id=\"graph0\" class=\"graph\" transform=\"scale(1 1) rotate(0) translate(4 265)\">\n",
       "<title>Tree</title>\n",
       "<polygon fill=\"white\" stroke=\"transparent\" points=\"-4,4 -4,-265 690,-265 690,4 -4,4\"/>\n",
       "<!-- 0 -->\n",
       "<g id=\"node1\" class=\"node\">\n",
       "<title>0</title>\n",
       "<polygon fill=\"none\" stroke=\"black\" points=\"422,-261 264,-261 264,-193 422,-193 422,-261\"/>\n",
       "<text text-anchor=\"middle\" x=\"343\" y=\"-245.8\" font-family=\"Helvetica,sans-Serif\" font-size=\"14.00\">lstat &lt;= 8.13</text>\n",
       "<text text-anchor=\"middle\" x=\"343\" y=\"-230.8\" font-family=\"Helvetica,sans-Serif\" font-size=\"14.00\">squared_error = 85.144</text>\n",
       "<text text-anchor=\"middle\" x=\"343\" y=\"-215.8\" font-family=\"Helvetica,sans-Serif\" font-size=\"14.00\">samples = 404</text>\n",
       "<text text-anchor=\"middle\" x=\"343\" y=\"-200.8\" font-family=\"Helvetica,sans-Serif\" font-size=\"14.00\">value = 22.612</text>\n",
       "</g>\n",
       "<!-- 1 -->\n",
       "<g id=\"node2\" class=\"node\">\n",
       "<title>1</title>\n",
       "<polygon fill=\"none\" stroke=\"black\" points=\"334,-157 176,-157 176,-89 334,-89 334,-157\"/>\n",
       "<text text-anchor=\"middle\" x=\"255\" y=\"-141.8\" font-family=\"Helvetica,sans-Serif\" font-size=\"14.00\">rm &lt;= 7.437</text>\n",
       "<text text-anchor=\"middle\" x=\"255\" y=\"-126.8\" font-family=\"Helvetica,sans-Serif\" font-size=\"14.00\">squared_error = 76.701</text>\n",
       "<text text-anchor=\"middle\" x=\"255\" y=\"-111.8\" font-family=\"Helvetica,sans-Serif\" font-size=\"14.00\">samples = 139</text>\n",
       "<text text-anchor=\"middle\" x=\"255\" y=\"-96.8\" font-family=\"Helvetica,sans-Serif\" font-size=\"14.00\">value = 31.378</text>\n",
       "</g>\n",
       "<!-- 0&#45;&gt;1 -->\n",
       "<g id=\"edge1\" class=\"edge\">\n",
       "<title>0&#45;&gt;1</title>\n",
       "<path fill=\"none\" stroke=\"black\" d=\"M314.43,-192.88C306.74,-183.98 298.34,-174.24 290.34,-164.96\"/>\n",
       "<polygon fill=\"black\" stroke=\"black\" points=\"292.91,-162.58 283.73,-157.3 287.61,-167.16 292.91,-162.58\"/>\n",
       "<text text-anchor=\"middle\" x=\"281.89\" y=\"-178.53\" font-family=\"Helvetica,sans-Serif\" font-size=\"14.00\">True</text>\n",
       "</g>\n",
       "<!-- 4 -->\n",
       "<g id=\"node5\" class=\"node\">\n",
       "<title>4</title>\n",
       "<polygon fill=\"none\" stroke=\"black\" points=\"510,-157 352,-157 352,-89 510,-89 510,-157\"/>\n",
       "<text text-anchor=\"middle\" x=\"431\" y=\"-141.8\" font-family=\"Helvetica,sans-Serif\" font-size=\"14.00\">lstat &lt;= 15.0</text>\n",
       "<text text-anchor=\"middle\" x=\"431\" y=\"-126.8\" font-family=\"Helvetica,sans-Serif\" font-size=\"14.00\">squared_error = 28.117</text>\n",
       "<text text-anchor=\"middle\" x=\"431\" y=\"-111.8\" font-family=\"Helvetica,sans-Serif\" font-size=\"14.00\">samples = 265</text>\n",
       "<text text-anchor=\"middle\" x=\"431\" y=\"-96.8\" font-family=\"Helvetica,sans-Serif\" font-size=\"14.00\">value = 18.014</text>\n",
       "</g>\n",
       "<!-- 0&#45;&gt;4 -->\n",
       "<g id=\"edge4\" class=\"edge\">\n",
       "<title>0&#45;&gt;4</title>\n",
       "<path fill=\"none\" stroke=\"black\" d=\"M371.57,-192.88C379.26,-183.98 387.66,-174.24 395.66,-164.96\"/>\n",
       "<polygon fill=\"black\" stroke=\"black\" points=\"398.39,-167.16 402.27,-157.3 393.09,-162.58 398.39,-167.16\"/>\n",
       "<text text-anchor=\"middle\" x=\"404.11\" y=\"-178.53\" font-family=\"Helvetica,sans-Serif\" font-size=\"14.00\">False</text>\n",
       "</g>\n",
       "<!-- 2 -->\n",
       "<g id=\"node3\" class=\"node\">\n",
       "<title>2</title>\n",
       "<polygon fill=\"none\" stroke=\"black\" points=\"158,-53 0,-53 0,0 158,0 158,-53\"/>\n",
       "<text text-anchor=\"middle\" x=\"79\" y=\"-37.8\" font-family=\"Helvetica,sans-Serif\" font-size=\"14.00\">squared_error = 37.749</text>\n",
       "<text text-anchor=\"middle\" x=\"79\" y=\"-22.8\" font-family=\"Helvetica,sans-Serif\" font-size=\"14.00\">samples = 115</text>\n",
       "<text text-anchor=\"middle\" x=\"79\" y=\"-7.8\" font-family=\"Helvetica,sans-Serif\" font-size=\"14.00\">value = 28.55</text>\n",
       "</g>\n",
       "<!-- 1&#45;&gt;2 -->\n",
       "<g id=\"edge2\" class=\"edge\">\n",
       "<title>1&#45;&gt;2</title>\n",
       "<path fill=\"none\" stroke=\"black\" d=\"M193.44,-88.95C174.62,-78.84 154.01,-67.78 135.54,-57.86\"/>\n",
       "<polygon fill=\"black\" stroke=\"black\" points=\"137.12,-54.73 126.65,-53.09 133.81,-60.9 137.12,-54.73\"/>\n",
       "</g>\n",
       "<!-- 3 -->\n",
       "<g id=\"node4\" class=\"node\">\n",
       "<title>3</title>\n",
       "<polygon fill=\"none\" stroke=\"black\" points=\"334,-53 176,-53 176,0 334,0 334,-53\"/>\n",
       "<text text-anchor=\"middle\" x=\"255\" y=\"-37.8\" font-family=\"Helvetica,sans-Serif\" font-size=\"14.00\">squared_error = 41.398</text>\n",
       "<text text-anchor=\"middle\" x=\"255\" y=\"-22.8\" font-family=\"Helvetica,sans-Serif\" font-size=\"14.00\">samples = 24</text>\n",
       "<text text-anchor=\"middle\" x=\"255\" y=\"-7.8\" font-family=\"Helvetica,sans-Serif\" font-size=\"14.00\">value = 44.929</text>\n",
       "</g>\n",
       "<!-- 1&#45;&gt;3 -->\n",
       "<g id=\"edge3\" class=\"edge\">\n",
       "<title>1&#45;&gt;3</title>\n",
       "<path fill=\"none\" stroke=\"black\" d=\"M255,-88.95C255,-80.72 255,-71.85 255,-63.48\"/>\n",
       "<polygon fill=\"black\" stroke=\"black\" points=\"258.5,-63.24 255,-53.24 251.5,-63.24 258.5,-63.24\"/>\n",
       "</g>\n",
       "<!-- 5 -->\n",
       "<g id=\"node6\" class=\"node\">\n",
       "<title>5</title>\n",
       "<polygon fill=\"none\" stroke=\"black\" points=\"510,-53 352,-53 352,0 510,0 510,-53\"/>\n",
       "<text text-anchor=\"middle\" x=\"431\" y=\"-37.8\" font-family=\"Helvetica,sans-Serif\" font-size=\"14.00\">squared_error = 13.419</text>\n",
       "<text text-anchor=\"middle\" x=\"431\" y=\"-22.8\" font-family=\"Helvetica,sans-Serif\" font-size=\"14.00\">samples = 132</text>\n",
       "<text text-anchor=\"middle\" x=\"431\" y=\"-7.8\" font-family=\"Helvetica,sans-Serif\" font-size=\"14.00\">value = 21.601</text>\n",
       "</g>\n",
       "<!-- 4&#45;&gt;5 -->\n",
       "<g id=\"edge5\" class=\"edge\">\n",
       "<title>4&#45;&gt;5</title>\n",
       "<path fill=\"none\" stroke=\"black\" d=\"M431,-88.95C431,-80.72 431,-71.85 431,-63.48\"/>\n",
       "<polygon fill=\"black\" stroke=\"black\" points=\"434.5,-63.24 431,-53.24 427.5,-63.24 434.5,-63.24\"/>\n",
       "</g>\n",
       "<!-- 6 -->\n",
       "<g id=\"node7\" class=\"node\">\n",
       "<title>6</title>\n",
       "<polygon fill=\"none\" stroke=\"black\" points=\"686,-53 528,-53 528,0 686,0 686,-53\"/>\n",
       "<text text-anchor=\"middle\" x=\"607\" y=\"-37.8\" font-family=\"Helvetica,sans-Serif\" font-size=\"14.00\">squared_error = 17.259</text>\n",
       "<text text-anchor=\"middle\" x=\"607\" y=\"-22.8\" font-family=\"Helvetica,sans-Serif\" font-size=\"14.00\">samples = 133</text>\n",
       "<text text-anchor=\"middle\" x=\"607\" y=\"-7.8\" font-family=\"Helvetica,sans-Serif\" font-size=\"14.00\">value = 14.453</text>\n",
       "</g>\n",
       "<!-- 4&#45;&gt;6 -->\n",
       "<g id=\"edge6\" class=\"edge\">\n",
       "<title>4&#45;&gt;6</title>\n",
       "<path fill=\"none\" stroke=\"black\" d=\"M492.56,-88.95C511.38,-78.84 531.99,-67.78 550.46,-57.86\"/>\n",
       "<polygon fill=\"black\" stroke=\"black\" points=\"552.19,-60.9 559.35,-53.09 548.88,-54.73 552.19,-60.9\"/>\n",
       "</g>\n",
       "</g>\n",
       "</svg>\n"
      ],
      "text/plain": [
       "<graphviz.sources.Source at 0x2621618c6d0>"
      ]
     },
     "execution_count": 18,
     "metadata": {},
     "output_type": "execute_result"
    }
   ],
   "source": [
    "export_graphviz(regr_tree_boston, \n",
    "                out_file = \"boston_tree.dot\", \n",
    "                feature_names = X_train.columns)\n",
    "\n",
    "with open(\"boston_tree.dot\") as f:\n",
    "    dot_graph = f.read()\n",
    "graphviz.Source(dot_graph)"
   ]
  },
  {
   "cell_type": "markdown",
   "metadata": {},
   "source": [
    "<span style=\"color:blue\"> **Result:** The \"lstat\" variable shows the percentage of people with lower socioeconomic status. According to the tree, when \"lstat\" has lower values, houses tend to be more expensive. For larger homes (rm>=7.4351) in suburbs where residents have a high socioeconomic status (lstat<7.81), the tree predicts a median house price of $45,766.</span>"
   ]
  },
  {
   "cell_type": "markdown",
   "metadata": {},
   "source": [
    "## <span style=\"color:blue\">Step 5: Evaluation on test dataset: </span>"
   ]
  },
  {
   "cell_type": "code",
   "execution_count": 20,
   "metadata": {
    "jupyter": {
     "outputs_hidden": false
    }
   },
   "outputs": [
    {
     "data": {
      "text/plain": [
       "35.406215828790266"
      ]
     },
     "execution_count": 20,
     "metadata": {},
     "output_type": "execute_result"
    },
    {
     "data": {
      "image/png": "[encoded data removed]",
      "text/plain": [
       "<Figure size 640x480 with 1 Axes>"
      ]
     },
     "metadata": {},
     "output_type": "display_data"
    }
   ],
   "source": [
    "pred = regr_tree_boston.predict(X_test)\n",
    "\n",
    "plt.scatter(pred, \n",
    "            y_test, \n",
    "            label = 'medv')\n",
    "\n",
    "plt.plot([0, 1], \n",
    "         [0, 1], \n",
    "         '--k', \n",
    "         transform = plt.gca().transAxes)\n",
    "\n",
    "plt.xlabel('pred')\n",
    "plt.ylabel('y_test')\n",
    "\n",
    "mean_squared_error(y_test, pred)"
   ]
  },
  {
   "cell_type": "markdown",
   "metadata": {},
   "source": [
    "<span style=\"color:blue\"> **Result:** The test set MSE (Mean Squared Error) for the regression tree is 35.4. If we take the square root of the MSE, it's about 5.95. This means the model's test predictions are typically within around $5,950 of the actual median home value for the suburb.</span>\n",
    "   "
   ]
  },
  {
   "cell_type": "markdown",
   "metadata": {},
   "source": [
    "## <span style=\"color:orange\">Part 4: Bagging and Random Forests</span>"
   ]
  },
  {
   "cell_type": "markdown",
   "metadata": {},
   "source": [
    "<span style=\"color:blue\">Bagging, is a technique in machine learning that enhances model performance by training multiple instances of the same algorithm on diverse subsets of the training data, generated through random sampling with replacement. The predictions are then aggregated, typically through averaging for regression or voting for classification. Random Forest, an extension of bagging applied to decision trees, introduces an additional layer of randomness. Each tree in the random forest is constructed using a random subset of features at each split. This extra randomness enhances model diversity, reducing overfitting and improving generalization performance. The RandomForestRegressor() function can handle both random forests and bagging, making it versatile for these ensemble techniques.</span>"
   ]
  },
  {
   "cell_type": "code",
   "execution_count": 22,
   "metadata": {
    "jupyter": {
     "outputs_hidden": false
    }
   },
   "outputs": [
    {
     "data": {
      "text/html": [
       "<style>#sk-container-id-3 {color: black;}#sk-container-id-3 pre{padding: 0;}#sk-container-id-3 div.sk-toggleable {background-color: white;}#sk-container-id-3 label.sk-toggleable__label {cursor: pointer;display: block;width: 100%;margin-bottom: 0;padding: 0.3em;box-sizing: border-box;text-align: center;}#sk-container-id-3 label.sk-toggleable__label-arrow:before {content: \"▸\";float: left;margin-right: 0.25em;color: #696969;}#sk-container-id-3 label.sk-toggleable__label-arrow:hover:before {color: black;}#sk-container-id-3 div.sk-estimator:hover label.sk-toggleable__label-arrow:before {color: black;}#sk-container-id-3 div.sk-toggleable__content {max-height: 0;max-width: 0;overflow: hidden;text-align: left;background-color: #f0f8ff;}#sk-container-id-3 div.sk-toggleable__content pre {margin: 0.2em;color: black;border-radius: 0.25em;background-color: #f0f8ff;}#sk-container-id-3 input.sk-toggleable__control:checked~div.sk-toggleable__content {max-height: 200px;max-width: 100%;overflow: auto;}#sk-container-id-3 input.sk-toggleable__control:checked~label.sk-toggleable__label-arrow:before {content: \"▾\";}#sk-container-id-3 div.sk-estimator input.sk-toggleable__control:checked~label.sk-toggleable__label {background-color: #d4ebff;}#sk-container-id-3 div.sk-label input.sk-toggleable__control:checked~label.sk-toggleable__label {background-color: #d4ebff;}#sk-container-id-3 input.sk-hidden--visually {border: 0;clip: rect(1px 1px 1px 1px);clip: rect(1px, 1px, 1px, 1px);height: 1px;margin: -1px;overflow: hidden;padding: 0;position: absolute;width: 1px;}#sk-container-id-3 div.sk-estimator {font-family: monospace;background-color: #f0f8ff;border: 1px dotted black;border-radius: 0.25em;box-sizing: border-box;margin-bottom: 0.5em;}#sk-container-id-3 div.sk-estimator:hover {background-color: #d4ebff;}#sk-container-id-3 div.sk-parallel-item::after {content: \"\";width: 100%;border-bottom: 1px solid gray;flex-grow: 1;}#sk-container-id-3 div.sk-label:hover label.sk-toggleable__label {background-color: #d4ebff;}#sk-container-id-3 div.sk-serial::before {content: \"\";position: absolute;border-left: 1px solid gray;box-sizing: border-box;top: 0;bottom: 0;left: 50%;z-index: 0;}#sk-container-id-3 div.sk-serial {display: flex;flex-direction: column;align-items: center;background-color: white;padding-right: 0.2em;padding-left: 0.2em;position: relative;}#sk-container-id-3 div.sk-item {position: relative;z-index: 1;}#sk-container-id-3 div.sk-parallel {display: flex;align-items: stretch;justify-content: center;background-color: white;position: relative;}#sk-container-id-3 div.sk-item::before, #sk-container-id-3 div.sk-parallel-item::before {content: \"\";position: absolute;border-left: 1px solid gray;box-sizing: border-box;top: 0;bottom: 0;left: 50%;z-index: -1;}#sk-container-id-3 div.sk-parallel-item {display: flex;flex-direction: column;z-index: 1;position: relative;background-color: white;}#sk-container-id-3 div.sk-parallel-item:first-child::after {align-self: flex-end;width: 50%;}#sk-container-id-3 div.sk-parallel-item:last-child::after {align-self: flex-start;width: 50%;}#sk-container-id-3 div.sk-parallel-item:only-child::after {width: 0;}#sk-container-id-3 div.sk-dashed-wrapped {border: 1px dashed gray;margin: 0 0.4em 0.5em 0.4em;box-sizing: border-box;padding-bottom: 0.4em;background-color: white;}#sk-container-id-3 div.sk-label label {font-family: monospace;font-weight: bold;display: inline-block;line-height: 1.2em;}#sk-container-id-3 div.sk-label-container {text-align: center;}#sk-container-id-3 div.sk-container {/* jupyter's `normalize.less` sets `[hidden] { display: none; }` but bootstrap.min.css set `[hidden] { display: none !important; }` so we also need the `!important` here to be able to override the default hidden behavior on the sphinx rendered scikit-learn.org. See: https://github.com/scikit-learn/scikit-learn/issues/21755 */display: inline-block !important;position: relative;}#sk-container-id-3 div.sk-text-repr-fallback {display: none;}</style><div id=\"sk-container-id-3\" class=\"sk-top-container\"><div class=\"sk-text-repr-fallback\"><pre>RandomForestRegressor(max_features=13, random_state=1)</pre><b>In a Jupyter environment, please rerun this cell to show the HTML representation or trust the notebook. <br />On GitHub, the HTML representation is unable to render, please try loading this page with nbviewer.org.</b></div><div class=\"sk-container\" hidden><div class=\"sk-item\"><div class=\"sk-estimator sk-toggleable\"><input class=\"sk-toggleable__control sk-hidden--visually\" id=\"sk-estimator-id-3\" type=\"checkbox\" checked><label for=\"sk-estimator-id-3\" class=\"sk-toggleable__label sk-toggleable__label-arrow\">RandomForestRegressor</label><div class=\"sk-toggleable__content\"><pre>RandomForestRegressor(max_features=13, random_state=1)</pre></div></div></div></div></div>"
      ],
      "text/plain": [
       "RandomForestRegressor(max_features=13, random_state=1)"
      ]
     },
     "execution_count": 22,
     "metadata": {},
     "output_type": "execute_result"
    }
   ],
   "source": [
    "bagged_boston = RandomForestRegressor(max_features = 13, random_state = 1)\n",
    "bagged_boston.fit(X_train, y_train)"
   ]
  },
  {
   "cell_type": "markdown",
   "metadata": {},
   "source": [
    "<span style=\"color:blue\">When we set the parameter \"max_features\" to 13, it means that every time a decision tree is created, all 13 predictors (features) will be considered for each decision point in the tree. This is like saying we want to use all available information at each step of building the tree, a process similar to bagging where we include all features without leaving any out.</span>"
   ]
  },
  {
   "cell_type": "markdown",
   "metadata": {},
   "source": [
    "### <span style=\"color:blue\">Evaluating bagged model on the test set</span>"
   ]
  },
  {
   "cell_type": "code",
   "execution_count": 23,
   "metadata": {
    "jupyter": {
     "outputs_hidden": false
    }
   },
   "outputs": [
    {
     "data": {
      "text/plain": [
       "19.460850500000006"
      ]
     },
     "execution_count": 23,
     "metadata": {},
     "output_type": "execute_result"
    },
    {
     "data": {
      "image/png": "[encoded data removed]",
      "text/plain": [
       "<Figure size 640x480 with 1 Axes>"
      ]
     },
     "metadata": {},
     "output_type": "display_data"
    }
   ],
   "source": [
    "pred = bagged_boston.predict(X_test)\n",
    "\n",
    "plt.scatter(pred, \n",
    "            y_test, \n",
    "            label = 'medv')\n",
    "\n",
    "plt.plot([0, 1], \n",
    "         [0, 1], \n",
    "         '--k', \n",
    "         transform = plt.gca().transAxes)\n",
    "\n",
    "plt.xlabel('pred')\n",
    "plt.ylabel('y_test')\n",
    "\n",
    "mean_squared_error(y_test, pred)"
   ]
  },
  {
   "cell_type": "markdown",
   "metadata": {},
   "source": [
    "<span style=\"color:blue\">The result, 19.46, represents the mean squared error (MSE) between the predicted values (pred) and the actual values (y_test). MSE is a standard measure for assessing how well a regression model performs. In simpler terms, it's the average of the squared differences between each predicted and actual value. The process involves squaring the differences for each data point, adding them up, and then dividing by the number of data points. For your regression model, a MSE of 19.46 indicates that, on average, the squared difference between predictions and actual values is around 19.46. Smaller MSE values are preferred, signaling better model accuracy by indicating smaller deviations between predicted and actual values. Hence, aiming for a lower MSE is desirable for improved predictive performance in this context. Here we can see that the test dataset MSE related to Bagged regression tree is a lot lower than our single tree (that it was 35.4).</span>"
   ]
  },
  {
   "cell_type": "markdown",
   "metadata": {},
   "source": [
    "### <span style=\"color:blue\">Evaluating Random Forest model on the test set</span>"
   ]
  },
  {
   "cell_type": "markdown",
   "metadata": {},
   "source": [
    "<span style=\"color:blue\">We can build a random forest in a similar fashion, but with a reduction in the max_features parameter. In this case, we'll set max_features to 6, implying that, during the creation of each decision tree within the forest, only a subset of 6 features will be considered at each decision point instead of utilizing all features.</span>"
   ]
  },
  {
   "cell_type": "code",
   "execution_count": 26,
   "metadata": {
    "jupyter": {
     "outputs_hidden": false
    }
   },
   "outputs": [
    {
     "data": {
      "text/plain": [
       "22.080069764705893"
      ]
     },
     "execution_count": 26,
     "metadata": {},
     "output_type": "execute_result"
    }
   ],
   "source": [
    "# Random forests: using 6 features\n",
    "random_forest_boston = RandomForestRegressor(max_features = 6, random_state = 1)\n",
    "\n",
    "random_forest_boston.fit(X_train, y_train)\n",
    "\n",
    "pred = random_forest_boston.predict(X_test)\n",
    "mean_squared_error(y_test, pred)"
   ]
  },
  {
   "cell_type": "markdown",
   "metadata": {},
   "source": [
    "<span style=\"color:blue\">The test set MSE of random forest is 22; this indicates that bagging yielded a better than random forests in this case.\n",
    "By utilizing the feature_importances_ attribute of the bagging boston, we can examine the significance of each variable:</span>"
   ]
  },
  {
   "cell_type": "code",
   "execution_count": 27,
   "metadata": {
    "jupyter": {
     "outputs_hidden": false
    }
   },
   "outputs": [
    {
     "data": {
      "image/png": "[encoded data removed]",
      "text/plain": [
       "<Figure size 640x480 with 1 Axes>"
      ]
     },
     "metadata": {},
     "output_type": "display_data"
    }
   ],
   "source": [
    "Importance = pd.DataFrame({'Importance':bagged_boston.feature_importances_*100}, \n",
    "                          index = X.columns)\n",
    "\n",
    "Importance.sort_values(by = 'Importance', \n",
    "                       axis = 0, \n",
    "                       ascending = True).plot(kind = 'barh', \n",
    "                                              color = 'r', )\n",
    "\n",
    "plt.xlabel('Variable Importance')\n",
    "plt.gca().legend_ = None"
   ]
  },
  {
   "cell_type": "markdown",
   "metadata": {},
   "source": [
    "<span style=\"color:blue\">**Result:** The findings suggest that among all the baggings, the most influential variables are, by a significant margin, the wealth level of the community (lstat) and the size of the house (rm).</span>"
   ]
  },
  {
   "cell_type": "markdown",
   "metadata": {},
   "source": [
    "## <span style=\"color:orange\">Part 5: Boosting</span>\n",
    "\n",
    "<span style=\"color:blue\">Next, we will employ the **GradientBoostingRegressor** package to train **boosted regression trees** on the Boston dataset. Setting the parameter n_estimators to 500 specifies our intention to have 500 trees, and the option interaction.depth = 4 constrains the depth of each tree:</span>"
   ]
  },
  {
   "cell_type": "code",
   "execution_count": 28,
   "metadata": {
    "jupyter": {
     "outputs_hidden": false
    }
   },
   "outputs": [
    {
     "data": {
      "text/html": [
       "<style>#sk-container-id-4 {color: black;}#sk-container-id-4 pre{padding: 0;}#sk-container-id-4 div.sk-toggleable {background-color: white;}#sk-container-id-4 label.sk-toggleable__label {cursor: pointer;display: block;width: 100%;margin-bottom: 0;padding: 0.3em;box-sizing: border-box;text-align: center;}#sk-container-id-4 label.sk-toggleable__label-arrow:before {content: \"▸\";float: left;margin-right: 0.25em;color: #696969;}#sk-container-id-4 label.sk-toggleable__label-arrow:hover:before {color: black;}#sk-container-id-4 div.sk-estimator:hover label.sk-toggleable__label-arrow:before {color: black;}#sk-container-id-4 div.sk-toggleable__content {max-height: 0;max-width: 0;overflow: hidden;text-align: left;background-color: #f0f8ff;}#sk-container-id-4 div.sk-toggleable__content pre {margin: 0.2em;color: black;border-radius: 0.25em;background-color: #f0f8ff;}#sk-container-id-4 input.sk-toggleable__control:checked~div.sk-toggleable__content {max-height: 200px;max-width: 100%;overflow: auto;}#sk-container-id-4 input.sk-toggleable__control:checked~label.sk-toggleable__label-arrow:before {content: \"▾\";}#sk-container-id-4 div.sk-estimator input.sk-toggleable__control:checked~label.sk-toggleable__label {background-color: #d4ebff;}#sk-container-id-4 div.sk-label input.sk-toggleable__control:checked~label.sk-toggleable__label {background-color: #d4ebff;}#sk-container-id-4 input.sk-hidden--visually {border: 0;clip: rect(1px 1px 1px 1px);clip: rect(1px, 1px, 1px, 1px);height: 1px;margin: -1px;overflow: hidden;padding: 0;position: absolute;width: 1px;}#sk-container-id-4 div.sk-estimator {font-family: monospace;background-color: #f0f8ff;border: 1px dotted black;border-radius: 0.25em;box-sizing: border-box;margin-bottom: 0.5em;}#sk-container-id-4 div.sk-estimator:hover {background-color: #d4ebff;}#sk-container-id-4 div.sk-parallel-item::after {content: \"\";width: 100%;border-bottom: 1px solid gray;flex-grow: 1;}#sk-container-id-4 div.sk-label:hover label.sk-toggleable__label {background-color: #d4ebff;}#sk-container-id-4 div.sk-serial::before {content: \"\";position: absolute;border-left: 1px solid gray;box-sizing: border-box;top: 0;bottom: 0;left: 50%;z-index: 0;}#sk-container-id-4 div.sk-serial {display: flex;flex-direction: column;align-items: center;background-color: white;padding-right: 0.2em;padding-left: 0.2em;position: relative;}#sk-container-id-4 div.sk-item {position: relative;z-index: 1;}#sk-container-id-4 div.sk-parallel {display: flex;align-items: stretch;justify-content: center;background-color: white;position: relative;}#sk-container-id-4 div.sk-item::before, #sk-container-id-4 div.sk-parallel-item::before {content: \"\";position: absolute;border-left: 1px solid gray;box-sizing: border-box;top: 0;bottom: 0;left: 50%;z-index: -1;}#sk-container-id-4 div.sk-parallel-item {display: flex;flex-direction: column;z-index: 1;position: relative;background-color: white;}#sk-container-id-4 div.sk-parallel-item:first-child::after {align-self: flex-end;width: 50%;}#sk-container-id-4 div.sk-parallel-item:last-child::after {align-self: flex-start;width: 50%;}#sk-container-id-4 div.sk-parallel-item:only-child::after {width: 0;}#sk-container-id-4 div.sk-dashed-wrapped {border: 1px dashed gray;margin: 0 0.4em 0.5em 0.4em;box-sizing: border-box;padding-bottom: 0.4em;background-color: white;}#sk-container-id-4 div.sk-label label {font-family: monospace;font-weight: bold;display: inline-block;line-height: 1.2em;}#sk-container-id-4 div.sk-label-container {text-align: center;}#sk-container-id-4 div.sk-container {/* jupyter's `normalize.less` sets `[hidden] { display: none; }` but bootstrap.min.css set `[hidden] { display: none !important; }` so we also need the `!important` here to be able to override the default hidden behavior on the sphinx rendered scikit-learn.org. See: https://github.com/scikit-learn/scikit-learn/issues/21755 */display: inline-block !important;position: relative;}#sk-container-id-4 div.sk-text-repr-fallback {display: none;}</style><div id=\"sk-container-id-4\" class=\"sk-top-container\"><div class=\"sk-text-repr-fallback\"><pre>GradientBoostingRegressor(learning_rate=0.01, max_depth=4, n_estimators=500,\n",
       "                          random_state=1)</pre><b>In a Jupyter environment, please rerun this cell to show the HTML representation or trust the notebook. <br />On GitHub, the HTML representation is unable to render, please try loading this page with nbviewer.org.</b></div><div class=\"sk-container\" hidden><div class=\"sk-item\"><div class=\"sk-estimator sk-toggleable\"><input class=\"sk-toggleable__control sk-hidden--visually\" id=\"sk-estimator-id-4\" type=\"checkbox\" checked><label for=\"sk-estimator-id-4\" class=\"sk-toggleable__label sk-toggleable__label-arrow\">GradientBoostingRegressor</label><div class=\"sk-toggleable__content\"><pre>GradientBoostingRegressor(learning_rate=0.01, max_depth=4, n_estimators=500,\n",
       "                          random_state=1)</pre></div></div></div></div></div>"
      ],
      "text/plain": [
       "GradientBoostingRegressor(learning_rate=0.01, max_depth=4, n_estimators=500,\n",
       "                          random_state=1)"
      ]
     },
     "execution_count": 28,
     "metadata": {},
     "output_type": "execute_result"
    }
   ],
   "source": [
    "boosted_boston = GradientBoostingRegressor(n_estimators = 500, \n",
    "                                           learning_rate = 0.01, \n",
    "                                           max_depth = 4, \n",
    "                                           random_state = 1)\n",
    "\n",
    "boosted_boston.fit(X_train, y_train)"
   ]
  },
  {
   "cell_type": "markdown",
   "metadata": {},
   "source": [
    "<span style=\"color:blue\">Let's check out the feature importances again:</span>"
   ]
  },
  {
   "cell_type": "code",
   "execution_count": 29,
   "metadata": {
    "jupyter": {
     "outputs_hidden": false
    }
   },
   "outputs": [
    {
     "data": {
      "image/png": "[encoded data removed]",
      "text/plain": [
       "<Figure size 640x480 with 1 Axes>"
      ]
     },
     "metadata": {},
     "output_type": "display_data"
    }
   ],
   "source": [
    "feature_importance = boosted_boston.feature_importances_*100\n",
    "\n",
    "rel_imp = pd.Series(feature_importance, \n",
    "                    index = X.columns).sort_values(inplace = False)\n",
    "\n",
    "rel_imp.T.plot(kind = 'barh', \n",
    "               color = 'r', )\n",
    "\n",
    "plt.xlabel('Variable Importance')\n",
    "\n",
    "plt.gca().legend_ = None"
   ]
  },
  {
   "cell_type": "markdown",
   "metadata": {},
   "source": [
    "<span style=\"color:blue\">We observe that, once again, lstat and rm stand out as the overwhelmingly most crucial variables. Now, let's utilize the boosted model to make predictions for medv on the test set:</span>"
   ]
  },
  {
   "cell_type": "code",
   "execution_count": 30,
   "metadata": {
    "jupyter": {
     "outputs_hidden": false
    }
   },
   "outputs": [
    {
     "data": {
      "text/plain": [
       "19.046377762502416"
      ]
     },
     "execution_count": 30,
     "metadata": {},
     "output_type": "execute_result"
    }
   ],
   "source": [
    "mean_squared_error(y_test, boosted_boston.predict(X_test))"
   ]
  },
  {
   "cell_type": "markdown",
   "metadata": {},
   "source": [
    "<span style=\"color:blue\">The test mean squared error (MSE) achieved is comparable to the test MSE for bagging and outperforms that of random forests. If desired, we can conduct boosting with an alternative value for the shrinkage parameter 𝜆. In this instance, we set 𝜆=0.2:</span>"
   ]
  },
  {
   "cell_type": "code",
   "execution_count": 31,
   "metadata": {
    "jupyter": {
     "outputs_hidden": false
    }
   },
   "outputs": [
    {
     "data": {
      "text/plain": [
       "17.667086952596446"
      ]
     },
     "execution_count": 31,
     "metadata": {},
     "output_type": "execute_result"
    }
   ],
   "source": [
    "boosted_boston2 = GradientBoostingRegressor(n_estimators = 500, \n",
    "                                            learning_rate = 0.2, \n",
    "                                            max_depth = 4, \n",
    "                                            random_state = 1)\n",
    "boosted_boston2.fit(X_train, y_train)\n",
    "\n",
    "mean_squared_error(y_test, boosted_boston2.predict(X_test))"
   ]
  },
  {
   "cell_type": "markdown",
   "metadata": {},
   "source": [
    "<span style=\"color:blue\">**In this scenario, employing 𝜆 = 0.2 results in a slightly reduced test mean squared error (MSE) compared to 𝜆 = 0.01.**</span>"
   ]
  },
  {
   "cell_type": "code",
   "execution_count": null,
   "metadata": {},
   "outputs": [],
   "source": []
  },
  {
   "cell_type": "markdown",
   "metadata": {},
   "source": [
    "### What's one real-world scenario where you might try using Bagging?\n",
    "\n",
    "<span style=\"color:blue\">**Scenario 1: College Admissions**<br>\n",
    "For example, if a college wants to make decisions about admissions and select the best students, we can use various factors such as grades, test scores, after-school activities, and recommendation letters that these students have. In this scenario, Bagging can be employed to train multiple admission models, and each of these models may have different preferences and biases. In each case, we will combine all the decisions obtained from different models. With this method, we can ensure that the final decision will be more balanced and have fewer biases.\n",
    "**Scenario 2: Credit Risk Assessment**<br>\n",
    "In the banking and financial industry, when assessing the credit risk of loan applicants, we could use bagging techniques. Each model in the group can evaluate an applicant's creditworthiness independently, considering factors like income, credit history, and employment status. By combining the predictions from multiple models, we can make a more dependable decision on whether to approve a loan. Bagging plays a crucial role in lessening the impact of errors in individual models, thereby enhancing the overall accuracy of credit risk assessments.</span>\n",
    "\n",
    "\n",
    "### What's one real-world scenario where you might try using Random Forests?\n",
    "\n",
    "<span style=\"color:blue\">**Scenario 1: Course Recommendation System**<br>\n",
    "In a college's course recommendation system, Random Forests can be employed with effectiveness. Each decision tree in the Random Forest can grasp different aspects of course selection criteria, including prerequisites, student interests, and course availability. By combining predictions from various trees, the system can offer students more accurate course recommendations. This approach utilizes the diversity in course selection criteria, ensuring recommendations are precise without overly customizing them to individual student preferences.\n",
    "**Scenario 2: Medical Diagnosis**<br> \n",
    "In the field of healthcare, especially in medical diagnosis, Random Forests prove to be a valuable tool. Imagine a situation where we must diagnose a patient's condition using a mix of medical test results, symptoms, and patient history. Random Forests can construct a group of decision trees, each concentrating on different facets of the diagnosis, like symptoms, test results, and medical history. This amalgamation of decision trees leads to a more resilient and precise diagnosis, taking into account varied sources of information and lessening the risk of misclassification.</span>\n",
    "\n",
    "\n",
    "### What's one real-world scenario where you might try using Boosting?\n",
    "\n",
    "<span style=\"color:blue\">**Scenario 1: Graduation Prediction**<br>\n",
    "When trying to predict if a student will graduate on time, Boosting proves helpful. In each boosting round, the focus is on enhancing prediction accuracy by giving extra attention to factors that caused prediction errors before, like course failures or academic challenges. By giving more weight to these areas and steadily refining the model, the college can offer more personalized guidance and support to students who might be at risk of not graduating on time.<br>\n",
    "**Scenario 2: Predicting Customers might stop shopping in Online Store:**<br>\n",
    "Boosting techniques prove useful in identifying customers who might cease online shopping. Employing special methods such as AdaBoost or GradientBoosting, Boosting teaches models gradually, allowing them to improve by recognizing and learning from mistakes. With every customer interaction or purchase on the website, valuable information is gained. By assigning greater significance to customers exhibiting specific behaviors, Boosting aids in detecting signs indicating a potential departure. This proactive approach enables the store to take early action, retaining customers and preventing them from leaving.</span>\n",
    "\n",
    "<span style=\"color:blue\">**Some Explanation**\n",
    "Bagging resembles collecting votes from various model groups. Each model learns from a random section of the training data and contributes an equal vote to the final decision. This proves beneficial when aiming to decrease variance and overfitting, akin to seeking diverse opinions from different individuals to enhance decision-making. Boosting, on the other hand, revolves around gradual model improvement. Models are trained sequentially, with each new model dedicated to rectifying errors made by its predecessors. Models making more mistakes receive increased attention. It's akin to having a personal tutor guiding improvement by concentrating on individual weaknesses.<br>\n",
    "source link: https://www.ibm.com/topics/bagging<br>\n",
    "RandomForest stands out as a distinctive ensemble learning technique, blending the concepts of Bagging and randomness. It constructs numerous decision trees, with each tree learning from distinct data sections. Additionally, each part of the tree only utilizes a random set of features. This approach assembles a robust and trustworthy team that leverages diverse models and various facets of the problem to enhance decision-making. Think of it as having a team of experts, each specializing in different areas, and collectively utilizing a limited set of reference sources to make well-informed decisions.<br>\n",
    "source link: https://www.analyticsvidhya.com/blog/2021/06/understanding-random-forest/</span>\n"
   ]
  },
  {
   "cell_type": "code",
   "execution_count": null,
   "metadata": {},
   "outputs": [],
   "source": []
  }
 ],
 "metadata": {
  "anaconda-cloud": {},
  "kernelspec": {
   "display_name": "Python 3 (ipykernel)",
   "language": "python",
   "name": "python3"
  },
  "language_info": {
   "codemirror_mode": {
    "name": "ipython",
    "version": 3
   },
   "file_extension": ".py",
   "mimetype": "text/x-python",
   "name": "python",
   "nbconvert_exporter": "python",
   "pygments_lexer": "ipython3",
   "version": "3.11.5"
  }
 },
 "nbformat": 4,
 "nbformat_minor": 4
}
