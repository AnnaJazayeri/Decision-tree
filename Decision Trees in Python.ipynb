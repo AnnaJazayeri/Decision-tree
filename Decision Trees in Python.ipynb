{
  "metadata": {
    "anaconda-cloud": {},
    "kernelspec": {
      "name": "python",
      "display_name": "Python (Pyodide)",
      "language": "python"
    },
    "language_info": {
      "codemirror_mode": {
        "name": "python",
        "version": 3
      },
      "file_extension": ".py",
      "mimetype": "text/x-python",
      "name": "python",
      "nbconvert_exporter": "python",
      "pygments_lexer": "ipython3",
      "version": "3.8"
    }
  },
  "nbformat_minor": 4,
  "nbformat": 4,
  "cells": [
    {
      "cell_type": "markdown",
      "source": "This lab on Decision Trees is a Python adaptation of p. 324-331 of \"Introduction to Statistical Learning with\nApplications in R\" by Gareth James, Daniela Witten, Trevor Hastie and Robert Tibshirani. Original adaptation by J. Warmenhoven, updated by R. Jordan Crouser at Smith\nCollege for SDS293: Machine Learning (Spring 2016).",
      "metadata": {}
    },
    {
      "cell_type": "code",
      "source": "import pandas as pd\nimport numpy as np\nimport matplotlib as mpl\nimport matplotlib.pyplot as plt\nimport graphviz\n\n%matplotlib inline",
      "metadata": {
        "collapsed": false,
        "jupyter": {
          "outputs_hidden": false
        }
      },
      "execution_count": null,
      "outputs": []
    },
    {
      "cell_type": "markdown",
      "source": "# 1 Fitting Classification Trees\n\nThe `sklearn` library has a lot of useful tools for constructing classification and regression trees:",
      "metadata": {}
    },
    {
      "cell_type": "code",
      "source": "from sklearn.model_selection import train_test_split\nfrom sklearn.tree import DecisionTreeRegressor, DecisionTreeClassifier, export_graphviz\nfrom sklearn.ensemble import RandomForestRegressor, GradientBoostingRegressor\nfrom sklearn.metrics import confusion_matrix, mean_squared_error",
      "metadata": {
        "collapsed": false,
        "jupyter": {
          "outputs_hidden": false
        }
      },
      "execution_count": null,
      "outputs": []
    },
    {
      "cell_type": "markdown",
      "source": "We'll start by using **classification trees** to analyze the `Carseats` data set. In these\ndata, `Sales` is a continuous variable, and so we begin by converting it to a\nbinary variable. We use the `ifelse()` function to create a variable, called\n`High`, which takes on a value of `Yes` if the `Sales` variable exceeds 8, and\ntakes on a value of `No` otherwise. We'll append this onto our dataFrame using the `.map()` function, and then do a little data cleaning to tidy things up:",
      "metadata": {}
    },
    {
      "cell_type": "code",
      "source": "df3 = pd.read_csv('Carseats.csv').drop('Unnamed: 0', axis=1)\ndf3['High'] = df3.Sales.map(lambda x: 1 if x>8 else 0)\ndf3.ShelveLoc = pd.factorize(df3.ShelveLoc)[0]\ndf3.Urban = df3.Urban.map({'No':0, 'Yes':1})\ndf3.US = df3.US.map({'No':0, 'Yes':1})\ndf3.info()",
      "metadata": {
        "collapsed": false,
        "jupyter": {
          "outputs_hidden": false
        }
      },
      "execution_count": null,
      "outputs": []
    },
    {
      "cell_type": "markdown",
      "source": "In order to properly evaluate the performance of a classification tree on\nthe data, we must estimate the test error rather than simply computing\nthe training error. We first split the observations into a training set and a test\nset:",
      "metadata": {}
    },
    {
      "cell_type": "code",
      "source": "X = df3.drop(['Sales', 'High'], axis = 1)\ny = df3.High\n\nX_train, X_test, y_train, y_test = train_test_split(X, y, train_size = 0.8, random_state = 0)",
      "metadata": {
        "collapsed": false,
        "jupyter": {
          "outputs_hidden": false
        }
      },
      "execution_count": null,
      "outputs": []
    },
    {
      "cell_type": "markdown",
      "source": "We now use the `DecisionTreeClassifier()` function to fit a classification tree in order to predict\n`High`. Unfortunately, manual pruning is not implemented in `sklearn`: http://scikit-learn.org/stable/modules/tree.html\n\nHowever, we can limit the depth of a tree using the `max_depth` parameter:",
      "metadata": {}
    },
    {
      "cell_type": "code",
      "source": "classification_tree_carseats = DecisionTreeClassifier(max_depth = 6)\nclassification_tree_carseats.fit(X_train, y_train)\nclassification_tree_carseats.score(X_train, y_train)",
      "metadata": {
        "collapsed": false,
        "jupyter": {
          "outputs_hidden": false
        }
      },
      "execution_count": null,
      "outputs": []
    },
    {
      "cell_type": "markdown",
      "source": "We see that the training accuracy is 92.2%.\n\nOne of the most attractive properties of trees is that they can be\ngraphically displayed. Unfortunately, this is a bit of a roundabout process in `sklearn`. We use the `export_graphviz()` function to export the tree structure to a temporary `.dot` file,\nand the `graphviz.Source()` function to display the image:",
      "metadata": {}
    },
    {
      "cell_type": "code",
      "source": "export_graphviz(classification_tree_carseats, \n                out_file = \"carseat_tree.dot\", \n                feature_names = X_train.columns)\n\nwith open(\"carseat_tree.dot\") as f:\n    dot_graph = f.read()\ngraphviz.Source(dot_graph)",
      "metadata": {
        "collapsed": false,
        "jupyter": {
          "outputs_hidden": false
        }
      },
      "execution_count": null,
      "outputs": []
    },
    {
      "cell_type": "markdown",
      "source": "The most important indicator of `High` sales appears to be `Price`.",
      "metadata": {}
    },
    {
      "cell_type": "markdown",
      "source": "Finally, let's evaluate the tree's performance on\nthe test data. The `predict()` function can be used for this purpose. We can then build a confusion matrix, which shows that we are making correct predictions for\naround 72.5% of the test data set:",
      "metadata": {}
    },
    {
      "cell_type": "code",
      "source": "pred = classification_tree_carseats.predict(X_test)\ncm = pd.DataFrame(confusion_matrix(y_test, pred).T, \n                  index = ['No', 'Yes'], \n                  columns = ['No', 'Yes'])\nprint(cm)\n# (37+21)/80 = 0.745",
      "metadata": {
        "collapsed": false,
        "jupyter": {
          "outputs_hidden": false
        }
      },
      "execution_count": null,
      "outputs": []
    },
    {
      "cell_type": "markdown",
      "source": "# 2 Fitting Regression Trees\n\nNow let's try fitting a **regression tree** to the `Boston` data set from the `MASS` library. First, we create a\ntraining set, and fit the tree to the training data using `medv` (median home value) as our response:",
      "metadata": {}
    },
    {
      "cell_type": "code",
      "source": "boston_df = pd.read_csv('Boston.csv')\nX = boston_df.drop('medv', axis = 1)\ny = boston_df.medv\nX_train, X_test, y_train, y_test = train_test_split(X, y, train_size = 0.8, random_state = 0)\n\n# Pruning not supported. Choosing max depth 2)\nregr_tree_boston = DecisionTreeRegressor(max_depth = 2)\nregr_tree_boston.fit(X_train, y_train)",
      "metadata": {
        "collapsed": false,
        "jupyter": {
          "outputs_hidden": false
        }
      },
      "execution_count": null,
      "outputs": []
    },
    {
      "cell_type": "markdown",
      "source": "Let's take a look at the tree:",
      "metadata": {}
    },
    {
      "cell_type": "code",
      "source": "export_graphviz(regr_tree_boston, \n                out_file = \"boston_tree.dot\", \n                feature_names = X_train.columns)\n\nwith open(\"boston_tree.dot\") as f:\n    dot_graph = f.read()\ngraphviz.Source(dot_graph)",
      "metadata": {
        "collapsed": false,
        "jupyter": {
          "outputs_hidden": false
        }
      },
      "execution_count": null,
      "outputs": []
    },
    {
      "cell_type": "markdown",
      "source": "The variable `lstat` measures the percentage of individuals with lower\nsocioeconomic status. The tree indicates that lower values of `lstat` correspond\nto more expensive houses. The tree predicts a median house price\nof \\$45,766 for larger homes (`rm>=7.4351`) in suburbs in which residents have high socioeconomic\nstatus (`lstat<7.81`).\n\nNow let's see how it does on the test data:",
      "metadata": {}
    },
    {
      "cell_type": "code",
      "source": "pred = regr_tree_boston.predict(X_test)\n\nplt.scatter(pred, \n            y_test, \n            label = 'medv')\n\nplt.plot([0, 1], \n         [0, 1], \n         '--k', \n         transform = plt.gca().transAxes)\n\nplt.xlabel('pred')\nplt.ylabel('y_test')\n\nmean_squared_error(y_test, pred)",
      "metadata": {
        "collapsed": false,
        "jupyter": {
          "outputs_hidden": false
        }
      },
      "execution_count": null,
      "outputs": []
    },
    {
      "cell_type": "markdown",
      "source": "The test set MSE associated with the regression tree is\n35.4. The square root of the MSE is therefore around 5.95, indicating\nthat this model leads to test predictions that are within around \\$5,950 of\nthe true median home value for the suburb.\n    \n# 3 Bagging and Random Forests\n\nLet's see if we can improve on this result using **bagging** and **random forests**. The exact results obtained in this section may\ndepend on the version of `python` and the version of the `RandomForestRegressor` package\ninstalled on your computer, so don't stress out if you don't match up exactly with the book. Recall that **bagging** is simply a special case of\na **random forest** with $m = p$. Therefore, the `RandomForestRegressor()` function can\nbe used to perform both random forests and bagging. Let's start with bagging:",
      "metadata": {}
    },
    {
      "cell_type": "code",
      "source": "# Bagging: using all features\nbagged_boston = RandomForestRegressor(max_features = 13, random_state = 1)\nbagged_boston.fit(X_train, y_train)",
      "metadata": {
        "collapsed": false,
        "jupyter": {
          "outputs_hidden": false
        }
      },
      "execution_count": null,
      "outputs": []
    },
    {
      "cell_type": "markdown",
      "source": "The argument `max_features = 13` indicates that all 13 predictors should be considered\nfor each split of the tree -- in other words, that bagging should be done. How\nwell does this bagged model perform on the test set?",
      "metadata": {}
    },
    {
      "cell_type": "code",
      "source": "pred = bagged_boston.predict(X_test)\n\nplt.scatter(pred, \n            y_test, \n            label = 'medv')\n\nplt.plot([0, 1], \n         [0, 1], \n         '--k', \n         transform = plt.gca().transAxes)\n\nplt.xlabel('pred')\nplt.ylabel('y_test')\n\nmean_squared_error(y_test, pred)",
      "metadata": {
        "collapsed": false,
        "jupyter": {
          "outputs_hidden": false
        }
      },
      "execution_count": null,
      "outputs": []
    },
    {
      "cell_type": "markdown",
      "source": "The test set MSE associated with the bagged regression tree is significantly lower than our single tree!",
      "metadata": {}
    },
    {
      "cell_type": "markdown",
      "source": "We can grow a random forest in exactly the same way, except that\nwe'll use a smaller value of the `max_features` argument. Here we'll\nuse `max_features = 6`:",
      "metadata": {}
    },
    {
      "cell_type": "code",
      "source": "# Random forests: using 6 features\nrandom_forest_boston = RandomForestRegressor(max_features = 6, random_state = 1)\n\nrandom_forest_boston.fit(X_train, y_train)\n\npred = random_forest_boston.predict(X_test)\nmean_squared_error(y_test, pred)",
      "metadata": {
        "collapsed": false,
        "jupyter": {
          "outputs_hidden": false
        }
      },
      "execution_count": null,
      "outputs": []
    },
    {
      "cell_type": "markdown",
      "source": "The test set MSE is even lower; this indicates that random forests yielded an\nimprovement over bagging in this case.\n\nUsing the `feature_importances_` attribute of the `RandomForestRegressor`, we can view the importance of each\nvariable:",
      "metadata": {}
    },
    {
      "cell_type": "code",
      "source": "Importance = pd.DataFrame({'Importance':random_forest_boston.feature_importances_*100}, \n                          index = X.columns)\n\nImportance.sort_values(by = 'Importance', \n                       axis = 0, \n                       ascending = True).plot(kind = 'barh', \n                                              color = 'r', )\n\nplt.xlabel('Variable Importance')\nplt.gca().legend_ = None",
      "metadata": {
        "collapsed": false,
        "jupyter": {
          "outputs_hidden": false
        }
      },
      "execution_count": null,
      "outputs": []
    },
    {
      "cell_type": "markdown",
      "source": "The results indicate that across all of the trees considered in the random\nforest, the wealth level of the community (`lstat`) and the house size (`rm`)\nare by far the two most important variables.",
      "metadata": {}
    },
    {
      "cell_type": "markdown",
      "source": "# 4 Boosting\n\nNow we'll use the `GradientBoostingRegressor` package to fit **boosted\nregression trees** to the `Boston` data set. The\nargument `n_estimators = 500` indicates that we want 500 trees, and the option\n`interaction.depth = 4` limits the depth of each tree:",
      "metadata": {}
    },
    {
      "cell_type": "code",
      "source": "boosted_boston = GradientBoostingRegressor(n_estimators = 500, \n                                           learning_rate = 0.01, \n                                           max_depth = 4, \n                                           random_state = 1)\n\nboosted_boston.fit(X_train, y_train)",
      "metadata": {
        "collapsed": false,
        "jupyter": {
          "outputs_hidden": false
        }
      },
      "execution_count": null,
      "outputs": []
    },
    {
      "cell_type": "markdown",
      "source": "Let's check out the feature importances again:",
      "metadata": {}
    },
    {
      "cell_type": "code",
      "source": "feature_importance = boosted_boston.feature_importances_*100\n\nrel_imp = pd.Series(feature_importance, \n                    index = X.columns).sort_values(inplace = False)\n\nrel_imp.T.plot(kind = 'barh', \n               color = 'r', )\n\nplt.xlabel('Variable Importance')\n\nplt.gca().legend_ = None",
      "metadata": {
        "collapsed": false,
        "jupyter": {
          "outputs_hidden": false
        }
      },
      "execution_count": null,
      "outputs": []
    },
    {
      "cell_type": "markdown",
      "source": "We see that `lstat` and `rm` are again the most important variables by far. Now let's use the boosted model to predict `medv` on the test set:",
      "metadata": {}
    },
    {
      "cell_type": "code",
      "source": "mean_squared_error(y_test, boosted_boston.predict(X_test))",
      "metadata": {
        "collapsed": false,
        "jupyter": {
          "outputs_hidden": false
        }
      },
      "execution_count": null,
      "outputs": []
    },
    {
      "cell_type": "markdown",
      "source": "The test MSE obtained is similar to the test MSE for random forests\nand superior to that for bagging. If we want to, we can perform boosting\nwith a different value of the shrinkage parameter $\\lambda$. Here we take $\\lambda = 0.2$:",
      "metadata": {}
    },
    {
      "cell_type": "code",
      "source": "boosted_boston2 = GradientBoostingRegressor(n_estimators = 500, \n                                            learning_rate = 0.2, \n                                            max_depth = 4, \n                                            random_state = 1)\nboosted_boston2.fit(X_train, y_train)\n\nmean_squared_error(y_test, boosted_boston2.predict(X_test))",
      "metadata": {
        "collapsed": false,
        "jupyter": {
          "outputs_hidden": false
        }
      },
      "execution_count": null,
      "outputs": []
    },
    {
      "cell_type": "markdown",
      "source": "In this case, using $\\lambda = 0.2$ leads to a slightly lower test MSE than $\\lambda = 0.01$.\n\nTo get credit for this lab, post your responses to the following questions:\n - What's one real-world scenario where you might try using Bagging?\n - What's one real-world scenario where you might try using Random Forests?\n - What's one real-world scenario where you might try using Boosting?\n ",
      "metadata": {}
    }
  ]
}